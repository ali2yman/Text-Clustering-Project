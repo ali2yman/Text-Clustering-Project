{
 "cells": [
  {
   "cell_type": "code",
   "execution_count": 1,
   "id": "aa0a24c2",
   "metadata": {},
   "outputs": [],
   "source": [
    "import pandas as pd \n",
    "import numpy as np  \n",
    "from sklearn.datasets import fetch_20newsgroups \n",
    "import re\n",
    "from sklearn.decomposition import PCA"
   ]
  },
  {
   "cell_type": "code",
   "execution_count": 2,
   "id": "09755ad9",
   "metadata": {},
   "outputs": [
    {
     "name": "stdout",
     "output_type": "stream",
     "text": [
      "Loading 20 newsgroups dataset for categories:\n",
      "['talk.religion.misc', 'comp.graphics', 'sci.space']\n"
     ]
    }
   ],
   "source": [
    "# Selected 3 categories from the 20 newsgroups dataset\n",
    "categories = [\n",
    "    'talk.religion.misc',\n",
    "    'comp.graphics',\n",
    "    'sci.space',\n",
    "]\n",
    "    \n",
    "print(\"Loading 20 newsgroups dataset for categories:\")\n",
    "print(categories)"
   ]
  },
  {
   "cell_type": "code",
   "execution_count": 3,
   "id": "63095dfc",
   "metadata": {},
   "outputs": [],
   "source": [
    "# subset > all : to retrieve all the data training and testing \n",
    "# remove = ('headers', 'footers', 'quotes') : to focus only on the text \n",
    "def collect_data():\n",
    "    dataset = fetch_20newsgroups(subset='all', \n",
    "                    shuffle=False, remove=('headers', 'footers', 'quotes'),categories=categories)    \n",
    "    df = pd.DataFrame()\n",
    "    df[\"data\"] = dataset[\"data\"]\n",
    "    df[\"target\"] = dataset[\"target\"]\n",
    "    df[\"target_names\"] = df.target.apply(lambda row: dataset[\"target_names\"][row])\n",
    "    return df"
   ]
  },
  {
   "cell_type": "code",
   "execution_count": 4,
   "id": "064faf95",
   "metadata": {},
   "outputs": [],
   "source": [
    "df = collect_data()"
   ]
  },
  {
   "cell_type": "code",
   "execution_count": 5,
   "id": "b16395f8",
   "metadata": {},
   "outputs": [],
   "source": [
    "def clean_text(df, text_column):\n",
    "    \"\"\"\n",
    "    Cleans the text in a specified column of a DataFrame.\n",
    "    Args:\n",
    "        df (pd.DataFrame): The input DataFrame.\n",
    "        text_column (str): The name of the column containing text data.\n",
    "\n",
    "    Returns:\n",
    "        pd.DataFrame: The DataFrame with cleaned text.\n",
    "    \"\"\"\n",
    "    df[text_column] = df[text_column].astype(str).str.lower()  \n",
    "    df[text_column] = df[text_column].apply(lambda text: re.sub(r'[^a-z\\s]', '', text))  # Keep only letters and spaces\n",
    "    df[text_column] = df[text_column].apply(lambda text: re.sub(r'\\s+', ' ', text).strip())  # Remove extra spaces\n",
    "    return df"
   ]
  },
  {
   "cell_type": "code",
   "execution_count": 6,
   "id": "a10947c1",
   "metadata": {},
   "outputs": [
    {
     "data": {
      "application/vnd.microsoft.datawrangler.viewer.v0+json": {
       "columns": [
        {
         "name": "index",
         "rawType": "int64",
         "type": "integer"
        },
        {
         "name": "data",
         "rawType": "object",
         "type": "string"
        },
        {
         "name": "target",
         "rawType": "int64",
         "type": "integer"
        },
        {
         "name": "target_names",
         "rawType": "object",
         "type": "string"
        }
       ],
       "conversionMethod": "pd.DataFrame",
       "ref": "8983f3cb-4d5c-4f90-a23a-12ae533f0a9d",
       "rows": [
        [
         "0",
         "i think i can largely as a result of efforts by people reading this group writing letters and making phone calls the following has happened nasa reprogrammed funds to keep nasp alive in efforts to kill dcx and the ssrt progam where twice twarted feb and june of last year gouldin kept his job in spite of heavy lobbying against him this may not be what mark was thinking of but it shows that the readers of scispace do have power and influence allen",
         "1",
         "sci.space"
        ],
        [
         "1",
         "in regards to fractal commpression i have seen fractal compressed movies they were both fairly impressive the first one was a gray scale movie of casablanca it was mb and had minutes of fps video it was a little grainy but not bad at all the second one i saw was only minutes but it had bit color with fps and measured in at mb i consider the fractal movies a practical thing to explore but unlike many other formats out there you do end up losing resolution i dont know what kind of softwarehardware was used for creating the movies i saw but the guy that showed them to me said it took minutes per frame to generate but as i said above playback was or more frames per second and how else could you put minutes on one floppy disk",
         "0",
         "comp.graphics"
        ],
        [
         "2",
         "background the orion spacedrive was a theoretical concept it would be a drive using thermonuclear explosions to drive a spacecraft the idea was that youd detonate devices with somewhere from one to ten megatons yield behind a pusher plate attached to the main spacecraft the shock wave from the explosions would transfer momentum to the ship now in an atmosphere i can see this the energy of the explosion heats the atmosphere which expands explosively and slams a shock wave into the pusher plate but in a vacuum only two things i can see are going to hit the plate fissionfusion products barium krypton helium neutrons evaporated bomb casing and electromagnetic radiation gammas mostly some lightheat from irradiated fission products would this work i cant see the em radiation impelling very much momentum especially given the mass of the pusher plate and it seems to me youre going to get more momentum transfer throwing the bombs out the back of the ship than you get from detonating them once theyre there i must be missing something would someone enlighten me via email thanks jim",
         "1",
         "sci.space"
        ],
        [
         "3",
         "do what thou wilt shall be the whole of the law honestly the word of sin is restriction would i kid you does one mans words encompass the majestic vision of thousands of individuals quoting a man is not the same as quoting the order taken out of context words can be interpreted much differently than had one applied them within the confines of their original expression i think this is the case regarding hymenaeus beta frater superior of the order to which i belong when he included that bit from merlinus x he did us all a service he showed us the extremes to which order members have been known to go in their fervor i have little knowledge regarding reuss background but surely he was an unusual man and he was an important force in the order for many years yet as people change so do orders change and while we look back so carefully at the dirty laundry of oto remember that this is only the surface skim and that many perspectives are now encompassed which extend beyond any one individual i hope to show that there was and is much room for a difference of opinion within the order itself perhaps by testing the limits myself let us examine this issue a bit more closely in karl kellner a wealthy austrian industrialist and paper chemist as well as a highgrade mason founded the ordo templi orientis kellner had traveled widely in the east where he met three adepts who instructed him specific magical practices kellners efforts to develop the order were later assisted by franz hartmann heinrich klein and theodore reuss who had worked together prior to joining the oto the order was first proclaimed in in reusss masonic publication oriflamme on kellners death reuss succeeded him as outer head oho the jubilee edition of the oriflamme published in announced that the order taught secret of sexual magic theodore reuss was an interesting character born june in augsburg he entered masonry in he was a singer journalist and possibly a spy for the prussian political police infiltrating the socialist league founded by karl marxs daughter and her husband reuss was later associated with william wynn westcott a leader of the golden dawn who later introduced him to john yarker yarker chartered reuss to found the rites of memphis and mizraim in germany after several attempts to concretize various masonic rites reuss settled on the development of the oto the order experienced reasonably steady growth under reuss leadership for example he chartered papus in france rudolph steiner in berlin and h spencer lewis in the usa in the historic meeting between reuss and crowley occurred crowley wrote that reuss came to him and accused him of revealing order secrets when crowley looked at it afresh the initiated interpretation of sexual magick unfolded itself to him for the first time reuss appointed crowley as supreme and holy king of all the english speaking world and it was this authorization that he invoked when publishing the material of the equinox reuss resigned as outer head of the order in after suffering a stroke and named crowley his successor all was well until when the book of the law was translated into german there was a break in the continuity of the order manyk members split with the new oho over the book which crowley was actively promulgating through the order he had earlier revise dthe order rituals at reusss request deeply infusing the doctrines of the new aeon revelation an introduction to the history of the oto by ad veritatem ix within equinox iii edited by hymenaeus beta frater superior rex summus sanctissimus caliph of the united states of america published by samuel weiser there are many possible reasons that our frater superior included this material in equinox iii and this is the real point is it not why did he wish to publish such things about the history of his own organization does he represent a dogmatic threat to the principle of thelema or is he exercising his true will and putting forth very complex pictures with no easy answers a picture which leaves room for very many interpretations it is quite easy for me to see for example that all of oto derived out of the dribble of faltering masonry purchased by clever hucksters with an ounce of courage and some writing ability to aid them and i can take that all the way down to our present caliph whose feeble support of the law of thelema is laughable at best would i be thrown out of the order for speaking in this way will i i think not why because my frater will see it as a perspective an interjection i am using as an example my illustration shows that we may express things in the context of a larger work and the true significance of this may be quite difficult to apprehend at first so it may be with oto and merlinus x please look oto more carefully i do not support reusss words myself as i am not qualified to assess them and i am critical of their pomposity if i who am a member of the order take such a stand and am allowed to continue doing so then what can this say about the health of the order does it mean that the order has gone soft and abandoned its moral principles or does it mean that it is strong in its ability to let the will of universal kinship arise on its own not shackled by some dogmatic requirement how shall we resolve these two possibilities i find a high calibre of individual associated with ordo templi orientis they are often quite intelligent and sometimes very well versed in arcane or usual information they are quite often artists and geniuses having met some longstanding members in the sf bay area many who are or were very heavily involved with the order i can vouch for the integrity of the organization as it stands i have sometimes questioned the policy of hymenaeus beta in these moments i followed my intuition and ive found little to stop me from requesting a second initiation from a different oto body im happily participating in social groups feasts or initiations and have come to know the gnostic mass well enough for my tastes this doesnt make me an authority on order politics and explanations however i can only hypothesize and relay to you what i understand based on my limited contact with other members i urge you not to take the words of merlinus x too far there are many ways to interpret words and many people who have become involved with the order feel very strongly about the sanctity of personal freedom and the preservation of individual vision i welcome other comment on this issue and will be writing more in response to other posts in this thread invoke me under my stars love is the law love under will i am i",
         "2",
         "talk.religion.misc"
        ],
        [
         "4",
         "",
         "1",
         "sci.space"
        ],
        [
         "5",
         "kudos to mark for his generous offer but there already exists a large emailbased forwarding system for scispace posts space digest it mirrors scispace exactly and provides simple twoway communication to subscribe send the following message in the body not subject of an email message subscribe space john q public to one of these addresses listservuga listservugaccugaedu listservfinhutc listservfinhuchutfi spacerequestisuisunetedu youll receive all the posts in digest form once a day please use a listserv if you can the spacerequest address is handled manually to post messages send your message with a reasonable subject line to spaceisuisunetedu questions comments to spacerequestisuisunetedu",
         "1",
         "sci.space"
        ],
        [
         "6",
         "speaking as one who knows relativity and quantum mechanics i say bullshit speaking as one who has taken lsd i say bullshit how could striving toward an ideal be in any way useful if the ideal had no objective existence mark pundurs",
         "2",
         "talk.religion.misc"
        ],
        [
         "7",
         "sorry folks i should have done this and meant to just after i hit the send key orbital elements of comet vii from dance files pau e i capomega w epoch also perihelions of gehrels were april jupiter radii august jupiter radii hope this helpsim even less of an orbital mechanic than i am an artist",
         "1",
         "sci.space"
        ],
        [
         "8",
         "actuallay i dont but on the other hand i dont support the idea of having one newsgroup for every aspect of graphics programming as proposed by brian in his reply to my original posting i would suggest a looser structure more like a compgraphicsprogrammer compgraphicshwandsw the reason for making as few groups as possible is for the same reason you say we shouldnt spilt up not to get to few postings every day i takes to much time to browse through all postings just to find two or three im interested in i understand and agree when you say you want all aspects of graphics in one meeting i agree to some extension i see news as a forum to exchange ideas help others or to be helped i think this is difficult to achive if there are so many different things in one meeting good evening netters",
         "0",
         "comp.graphics"
        ],
        [
         "9",
         "for immediate release contact oasis april los angeles ca local national space society chapters sponsor talk by la advocate of lunar power system as energy source for the world on april the oasis and ventura county chapters of the national space society will sponsor a talk by lunar power system lps co inventor and vicepresident of the lps coalition dr robert d waldron it will be held at pm at the rockwell science center in thousand oaks ca dr waldron is currently a technical specialist in space materials processing with the space systems division of rockwell international in downey california he is a recognized world authority on lunar materials refinement he has written or coauthored more than articles or reports on nonterrestrial materials processing or utilization along with dr david criswell waldron invented the lunarsolar power system concept momentum is building for a coalition of entrepreneurs legal experts and soviet and us scientists and engineers to build the lunar power system a pollutionfree energy source with a potential to power the globe for the past three years members of the coalition nearly half from california have rejuvenated the commercial and scientific concept of a solar power system based on the moon the lps concept entails collecting solar energy on the lunar surface and beaming the power to earth as microwaves transmitted through orbiting antennae a mature lps offers an enormous source of clean sustainable power to meet the earths ever increasing demand using proven basic technology oasis organization for the advancement of space industrialization is the greater los angeles chapter of the national space society which is an international nonprofit organization that promotes development of the space frontier the ventura county chapter is based in oxnard ca where rockwell science center auditorium camino dos rios thousand oaks ca",
         "1",
         "sci.space"
        ],
        [
         "10",
         "im working upon a game using an isometric perspective similar to that used in populous basically you look into a room that looks similar to the following xxxx xxxxx xxxx xxxx x xxxx xxxx x xxxx xxxx xxxx xxxx x xxxx xxxx x x xxxx xxxx x x xxxx o xxxx x xxxx xxxx xxxx xxxx xxxx xxxx xxxx xxxx xxxx the good thing about this perspective is that you can look and move around in three dimensions and still maintain your peripheral vision since your viewpoint is always the same the routines can be hardcoded for a particular vantage in my case wall twos rising edge has a slope of im also using mode x x ive run into two problems im sure that other readers have tried this before and have perhaps formulated their own opinions the routines for drawing walls were trivial but when i ran a packedplanar image through them i was dismayed by the jaggies im now considered some antialiasing routines speed is not really necessary is it worth the effort to have the artist draw the wall already skewed thus being assured of nice image or is this too much of a burden wall presents a problem the algorithm i used tends to overly distort the original i tried to decide on paper what pixels go where and failed has anyone come up with method for mapping a planar to crosswise sheared shape currently i take and produce line follows the slope line is directly under line line moves up a line and left pixels line is under line this fills the shape exactly without any unfilled pixels but it causes distortions has anyone come up with a better way perhaps it is necessary to simply draw the original bitmap already skewed are there any other particularly sticky problems with this perspective i was planning on having hidden plane removal by using zbuffering locations are stored in xyz form for those of you who noticed the top lines of wall and wall are parallel with its bottom lines this is why there appears to be an optical illusion ie it appears to be either the inside or outside of a cube depending on your mood there are no vanishing points this simplifies the drawing code for objects which dont have to change size as they move about in the room ive decided that this approximation is alright since small displacements at a large enough distance cause very little change in the apparent size of an object in a real perspective drawing hopefully the context of the picture ie chairs on the floor torches hanging on the walls will dispell any visual ambiguity thanks in advance for any help",
         "0",
         "comp.graphics"
        ],
        [
         "11",
         "ignorance is strength",
         "2",
         "talk.religion.misc"
        ],
        [
         "12",
         "well pardon me for trying to continue the discussion rather than just tugging my forelock in dismay at having not considered actually trying to recover the energy from this process which is at least trying to go the right way on the energy curve now where did i put those sackcloth and ashes i was not and am not pretending anything i am so pleased you are not surprised though note that i didnt say it was perpetual motion or even that it sounded like perpetual motion the phrase was sounds almost like perpetual motion which i at least consider a somewhat different propposition than the one you elect to criticize perhaps i should beg your pardon for being too precise in my use of language i will believe that this process comes even close to approaching technological and economic feasibility given the mixed nature of the trash that will have to be run through it as opposed to the costs of separating things first and having a different run for each actinide when i see them dump a few tons in one end and pull relatively clean material out the other once the costs technological risks etc are taken into account i still class this one with the idea of throwing waste into the sun sure its possible and the physics are well understood but is it really a reasonable approach and i still wonder at what sort of burning rate you could get with something like this as opposed to what kind of energy you would really recover as opposed to what it would cost to build and power with and without the energy recovery are we talking ounces pounds or tons grams kilograms or metric tons for you si fans of material and are we talking days weeks months or years days weeks months or years for you si fans hmmm still using a nondecimated time scale i see insisting on perfect safety is for people who dont have the balls to live in the real world mary shafer nasa ames dryden",
         "1",
         "sci.space"
        ],
        [
         "13",
         "hi to all out there we have this problem and im not certain im solving it in the correct way i was wondering if anyone can shed light on this or point me in the right place to look we have an xray imaging camera and a metallic tube with a cylindrical hole passing through it at a right angle to the tubes axis image xray source screen metallic tube we know sourcescreen centre distance radius of the tube radius of the hole we do some calculations based on the image of the hole on the screen however the calculations are mathematically highly complex and must assume that the objects hole projects an image resembling an ellipse if the tube is not parallel to the screen in the centre of the screen however it is unlikely that the object is placed so conveniently firstly we must transform the major and minor axis of the ellipse i cannot know what the angle between the tube and screen is do i have to assume that they are parallel to do the transformation how do i do this transformation secondly there is a distortion of the image due to the screen being planar the sourcescreen distance increases as we move away from the centre of the screen how can i compensate the ellipses axis for this image distortion so please can anyone give us a few pointers here how do we transform the image so it appears as it would if it were in the centre of the screen and how do i deal with distortion due to the shape of the screen wed appreciate any help either posted or emailed thanks in advance simon",
         "0",
         "comp.graphics"
        ],
        [
         "14",
         "announce that a reward of billion would go to the first corporation who successfully keeps at least person alive on the moon for a year and with b on offer the problem of keeping them alive is highly likely to involve more than just the lunar environment oh dear my freighter just landed on the roof of acmes base and they all died how sad gosh that leaves us as the oldest residents quick boss the slime from yoyodyne are back and this time theyve got a tank man the guns one could imagine all sorts of technologies being developed in that sort of environment greg im kidding btw although the problem of winnertakesall prizes is that it encourages all sorts of undesirable behaviour witness military procurement programs and b is probably far too small a reward to encourage what would be a very expensive and high risk proposition",
         "1",
         "sci.space"
        ],
        [
         "15",
         "lewb lets add to those percentages for the orphaic docterians brought lewbto the group by paulsaul who was a high ranking initiate on the lewbdevelopment of orphaic mysteries see jane harrisons prolegomena to the lewbstudy of greek religion cambridge u press and you can easly draw lewbyour own conclusions josh perhaps you can quote just a bit of her argument",
         "2",
         "talk.religion.misc"
        ],
        [
         "16",
         "they are d object files for cad d a program written by tom hudson for the atari st computers dont know much more about them except that they are stored with the points first then the surfaces are next and are made by listing point numbers that make up the triangle surface then theres a header that describes coloring lighting etc dont know much more than this hope this helps",
         "0",
         "comp.graphics"
        ],
        [
         "17",
         "hello everybody if you are using pixars renderman d scene description language for creating d worlds please help me im using renderman library on my next but there is no documentation about nextstep version of renderman available i can create very complicated scenes and render them using surface shaders but i can not bring them to life by applying shadows and reflections as far as i understand i have to define environmental and shadows maps to produce reflections and shadows but i do not know how to use them any advises or simple rib or c examples will be appreciated thanks in advance",
         "0",
         "comp.graphics"
        ],
        [
         "18",
         "once inflated the substance was no longer needed since there is nothing to cause the balloon to collapse this inflatable structure could suffer multiple holes with no disastrous deflation preasure and the internal preasure that was needed to maintain a spherical shape against this resistance caused them to catastrophically deflated the large silvered shards the billboard should pop like a dime store balloon no youre wrong about this give me some time to get my references",
         "1",
         "sci.space"
        ],
        [
         "19",
         "the gravity maneuvering that was used was to exploit fuzzy regions these are described by the inventor as exploiting the secondorder perturbations in a three body system the probe was launched into this region for the earthmoonsun system where the perturbations affected it in such a way as to allow it to go into lunar orbit without large expenditures of fuel to slow down the idea is that natural objects sometimes get captured without expending fuel well just find the trajectory that makes it possible the originator of the technique said that nasa wasnt interested but that japan was because their probe was small and couldnt hold a lot of fuel for deceleration this from an issue of science news or the planetary report i believe about months ago",
         "1",
         "sci.space"
        ],
        [
         "20",
         "here are some recent observations taken by the hubble space telescope o the faint object spectrograph fos was used to make ultraviolet observations of both the planet pluto and its moon charon the peakups were successful the observations were executed as scheduled and no problems were reported o observations were made using the high speed photometer of the planet uranus during an occultation by a faint star in capricornus these observations will help in our understanding of the planets atmospheric radiative and dynamical processes this event occurred close to the last quarter moon and special arrangements had to be made to modify the lunar limit tests to allow these observations the observations are currently being reviewed and all the observations looked okay",
         "1",
         "sci.space"
        ],
        [
         "21",
         "never said you didnt publish merely that there is data you dont publish and that noone scoriates you for those cases ibm research publishes plenty its why you ended up with nobel prizes in the last years but that some projects are deemed company confidential att bell labs keeps lots of stuff private like karamankars algorithm private moeny is entitled to do what it pleases within the bounds of law and for all the keepers of the temple of science should please shove their pointy little heads up their conically shaped posterior orifices pat",
         "1",
         "sci.space"
        ],
        [
         "22",
         "yeah corel draw and wordperfect presentations pretty limited here too since theres no not really such thing as a decent raster to vector conversion program this tracing technique is about it simple stuff like bw logos etc do pretty well while more complicated stuff goes haywire i suspect even though i dont write code that a good bitmapped to vector conversion program would probably be as big as most of these application softwares were using but even so how come one hasnt been written to my knowledge i mean even hijaak one of the commercial industry standards of file conversion hasnt attempted it yet",
         "0",
         "comp.graphics"
        ],
        [
         "23",
         "i produced an error last week about chorion i abhor publishing trash i abhor it of myself even more than i do from others but since i do not present myself as an authority on the subject i do not feel dishonest though i do openly admit ignorance and incompetence in this example thus i felt honor bound to do a better set of research specifically on the word first it should be noted that greek grammar is not as tough as i first assumed it is not nontrivial by any means and i still am not competent with it but it is not as opaque as i had thought it turns out that while the index for the bauerarndtgingrich greek lexicon renders each verse in order each word within a verse is put in greek alphabetical order thus while the the meaning of the verse is decipherable the syntax is far from clear on the other hand a greekenglish intralinear bible makes things a lot more comprehendable and yes the word for field in acts is indeed chorion now ive checked several greekenglish lexicons greek english lexicon of the new testament louw and nida robinsons greek and english lexicon of the new testament greek english lexicon of the new testament grimm word study concordance tynsdale a greek english lexicon of the new testament and other early christian writings bauerarndtgingrich the new analytical greek lexicon perschbacher in each case the meaning of the word chorion was given variously as a space place region district field area country place land farm estate a bit of tillage and similar meanings nowhere do any of these books mention anything about grave as some of these books go into great detail i would be very surprised to find that these books are all inadequate and mr archer is the only competent scholar in greek i think it more likely that mr archers investigations into contradictions to be once again as your friend said it lacking in substance and thus archer is again shown worthless as an expert witness by the way mr decenso i would have honorably presented my results on this matter even if i had found them to support mr archers contentions by the way among these lexicons eg robinsons is the definition of agros the word used in matthew to describe the field bought the word agros is defined as a field in the country chorion is specifically noted as a synonym to agros this is significant as it is evidence of how silly bullingers exegisis was which stated that the word for field in matthew ie agros is different from the word for field in acts ie chorion and thus we must be talking about two different fields of course you already admit how stupid bullingers exegisis is but this was a small serendipity which drives the point home so as of now unless mr decenso show compelling reasons to believe otherwise eg a reputable scholar with reputable references i consider this particular issue closed see mr decenso now you can go on to answer questions about the denials of peter the day of the crucifixion tyre and the fact that the author of matthew quoted from the wrong prophet in discussing the potters field later dave butler",
         "2",
         "talk.religion.misc"
        ],
        [
         "24",
         "well first you work out how much cold gas you need then make the tanks big enough working out how much cold gas is another problem depending on vehicle configuration flight duration thruster isp which couples into storage pressure which may be a factor in selecting tank wall thickness etc",
         "1",
         "sci.space"
        ],
        [
         "25",
         "this deserves framing it really does atoms arent even real tell me then those atoms we have seen with electron microscopes are atoms now so what are they figments of our imaginations the evidence that atoms are real is overwhelming but i wont bother with most evidence at the moment",
         "2",
         "talk.religion.misc"
        ],
        [
         "26",
         "absolutely lewis didnt care for the oto charter from reuss he had in mind something completely diferent crowley and lewis were very different persons as you probably know no my overstatement sorry",
         "2",
         "talk.religion.misc"
        ],
        [
         "27",
         "hi guys like all people in this group im a fans of fractal and render sw my favourite are fractint pov dstudio now listen my ideas ihave just starting now to be able to use dstudio quite well so im simulating a full animation of a f grand prix unfortanatly just some lap i m very interested about all kind of prj ds and so on concerning about cars or parts of its motors wheel dxf are good enough does anyone have object to give me to complete my hard animation anyway any exchanges about object material project will be very apreciate is there a ftp site where i can find its i m looking for pov files too i m interested about cpu time comparision rendering images on pov dstusio thank to all",
         "0",
         "comp.graphics"
        ],
        [
         "28",
         "lets see these arent in a strict sense amateur rockets that term denotes rockets the engines of which are constructed by the user the rockets you describe are called hpr or high power rockets to distinguish them from smaller model rockets they use factorymade ammonium perchlorate composite propellants in phenolic plastic engines with graphite nozzles the engines are classified by impulse a d engine for example can have no more than newtonseconds of impulse an f engine can have no more than ns each letter corresponds to a doubling of the maximum impulse so far engines up to size o are available pretty much off the shelf engines of size h and above are shipped as class b explosives and as such are controlled engines of size f and below are shipped as class c explosives and are not as controlled class f engines btw are not hpr engines but model rocket engines class g engines go in and out of legal limbo there is an hpr society the tripoli rocket society i believe which holds events at various sites throughout the year with all legalities faa waiver included taken care of the national association of rocketry is more concerned with engines below h though it is involved in hpr as well these societies certify users of hpr rockets and companies will not sell to uncertified individuals bottom line its legit i suggest you send for a catalog but forget the dynamite will ya",
         "1",
         "sci.space"
        ],
        [
         "29",
         "that is an idea the most efficient moon habitat also the idea of how to get the people off the moon once the prize was won also the idea of how to rescue someone who is dying on the moon maybe have a area where they can all see each other and can help each other if something happens i liek the idea of one prize for the first moon landing and return by a nongovernmental body also the idea of then having a moon habitat race i know we need to do somthing to get people involved eccentric millionairebillionaire would be nice we see how old ross feels about it after all it would be a great promotional thing and a way to show he does care about commericalization and the people will try to broach the subject to him moonbase on the cheap is a good idea nasa and friends seem to take to much time and give us to expensive stuff that of late does not work hubble and such basically what is the difference between a mil peice of junk and a multi mil piece of junk i know junk",
         "1",
         "sci.space"
        ],
        [
         "30",
         "i was at an interesting seminar at work uks ral space science dept on this subject specifically on a smallscale solar sail proposed as a student space project the guy giving the talk was keen to generate interest in the project ill typein the handout he gave out at the meeting here goes the microlight solar sail introduction the solar sail is a wellestablished concept harnessing the pressure of sunlight a spacecraft would have unlimited range in principle such a vehicle could explore the whole solar system with zero fuel consumption however it is more difficult to design a practical solar sail than most people realize the pressure of sunlight is only about one kilogram per square kilometer deploying and controlling the large area of aluminized fabric which would be necessary to transport a conventional type spacecraft is a daunting task this is why despite the potential of hte idea no such craft has actually been launched to date design recent advances in microelectronics make possible a different concept a tiny sail just a few metres in diameter which could be controlled purely be electronics with no mechanical parts several attitude control methods are feasible for example the pressure sunlight exerts on a panel of solar cells varies according to whether power is being drawn the key components of the craft will be a minute ccd camera developed at edinburgh university which can act as both attitude sensor and data gathering device solar cells providing watt power for control and communication and a directional radio antenna etched onto the surface of the sail itself launched as a piggyback payload the total cost of the mission can be limited to a few tens of thousands of dollars missions the craft would be capable of some ambitious missions for example a it could rendezvous with a nearby asteroid from the apollo or amor groups closeup pictures could be transmitted back to earth at a low bit rate b it could be steered into a lunar polar orbit previously unobserved areas around the lunar poles could be viewed by angling the sail to reflect sunlight downwards polar craters whose bases never receive sunlight could be imaged bright reflections would confirm that volatiles such as water ice have become trapped in these locationsimmensely valuable information for setting up a manned lunar base btw c it could be sent to rendezvous with a small asteroid or comet nucleus impacting at low speed a thin wire probe attached to the craft causes it to rebound while capturing a tiny sample is a sharpedged tube like performing a biopsy returning to earth the sail acts as an ideal reentry parachute load per unit area gmm ensures that heat is reradiated so efectively that the sail temperature cannot exceed deg c the material sample is recovered enclosed in a small insulating container contact colin jack tel oxford mathematical designs high street oxford ox dh england this guy would love to hear from anyone interested in this project or seeking details or anything and would be most happy to send you more information andy",
         "1",
         "sci.space"
        ],
        [
         "31",
         "medtroniccom dale m skiba entirely missed my point in my previous comment shortly after that post i realized two things i was running a fever of over and that i probably should not have gone directly from reading altslack to posting on this august newsgroup it is not ad hominen to point out that mr archer willingly prints blatant lies in defense of bible inerrancy and thus is worthless as an expert witness okay im game give us a listing of blatant lies from encyclopedia of biblical difficulties or other archer writings that would be interesting if only a very short list can be generated i think it is more likely that mr archer with his inerancy mindset is not always impartial and made a doozy of a mistake imho i also think that this mindset tends to generate these sorts of mistakes on the other hand if a long list can be generated it is more likely that mr archer intentionally uses deception in hs books why should he be deceptive just with tyre so archer is just sitting around rubbing his hands and plotting how next to deceive ok lets see the list this was an open question i assumed that if mr archer is a chronic liar someone whould have documented it this assumption is based on how talkorigins regulars have documented numerous cases of creationist deceptions such as duane guish and his friends no long list of archer mistakes has yet been given so this may be just an isolated incident",
         "2",
         "talk.religion.misc"
        ],
        [
         "32",
         "can you report crt and other register state in this mode thanks",
         "0",
         "comp.graphics"
        ],
        [
         "33",
         "we have been using iterated systems compression board to compress pathology images and are getting ratios of to without too much loss in quality it is taking about mins per image to compress on a mhz but decompression is almost real time on a in software alone",
         "0",
         "comp.graphics"
        ],
        [
         "34",
         "i am a macuser when it comes to graphics thats what i own software and hardware for and ive recently come across a large number of tttddd format modeling databases is there any software mac or unix for translating those to something i could use like dxf please reply via email",
         "0",
         "comp.graphics"
        ],
        [
         "35",
         "can someone please remind me who said a well known quotation he was sitting atop a rocket awaiting liftoff and afterwards in answer to the question what he had been thinking about said approximately half a million components each has to work perfectly each supplied by the lowest bidder attribution and correction of the quote would be much appreciated",
         "1",
         "sci.space"
        ],
        [
         "36",
         "only if you weight americans equal to salvadorans",
         "2",
         "talk.religion.misc"
        ],
        [
         "37",
         "i responded to jims other articles today but i see that i neglected to respond to this one i wouldnt want him to think me a hypocrite for not responding to every stupid article on trm dictionary definitions of not disagree and agree deleted oh but im weary of trying to wade through jims repertoire of red herrings and smoke screens lets see what we get when we run all four articles posted by jim today through the discord filter a markov chain program that steve lamont was kind enough to send me taking action a white geese be held as an accomplice to be held as a decision upon the door a black and white goose waddles past the eyes of the door hits it with the confidence interval for that individual is held responsible for that that individual may be held as a getaway car may be held as an uncountably large number of the driver of something and agree a black goose waddles past the person imprisoned white goose waddles past the confidence interval for the population of geese be axed fine and white goose waddles past the door does running jims articles through discord make them more coherent less coherent or has discord turned jims articles into an angstridden poem about making choices in a world filled with uncertainty yet being held responsible for the choices we make do the geese symbolize an inner frustration with ambiguity a desire that everything be black and white with no shades of gray does the getaway car tell us that to try to renounce the existential nature of our being is not to get away from responsibility for our actions but rather to take the role of the passive accomplice the driver of the getaway car as it were does the juxtaposition of man and machine car and driver reveal a subtext an internal conflict between determinism and moral responsibility or am i reading too much into a collaboration between jim and a random number generator",
         "2",
         "talk.religion.misc"
        ],
        [
         "38",
         "they did the rollout already i am going to have to pay more attention to the news are any of the gifs headed for wuarchive patrick",
         "1",
         "sci.space"
        ],
        [
         "39",
         "does anyone have a radon transform in c that they could send me any help accepted",
         "0",
         "comp.graphics"
        ],
        [
         "40",
         "tonigth a tv journal here in brasil announced that an object beyond plutos orbit was found by an observatory at hawaii they named the object karla the program said the object wasnt a gaseous giant planet and should be composed by rocks and ices can someone confirm these information could this object be a new planet or a kuiper object thanks in advance francisco",
         "1",
         "sci.space"
        ],
        [
         "41",
         "sounds liek what the fed has to do is sign a or more year lease to use certain parts of a space station that is built and designed and such by a commerical company or consortium of companies such as like alyeska for a small amount of rent in return for certain incentives and such such as tax and other right off and also a monopoly on certain products the commerical builders would have certain perks given to them to make there end easier taxes contracts regulatory concesions and such is it workable just might work after all if china can lease out hong kong and the people of hong kong can make money this could work",
         "1",
         "sci.space"
        ],
        [
         "42",
         "rick anderson replied to my letter with ra in article celplcacsubuffaloedu ra ra well jason its heretical in a few ways the first point is that ra this equates lucifer and jesus as being the same type of being ra however lucifer is a created being thou wast perfect in thy ra ways from the day that thou wast created till iniquity was found in ra thee ezekiel while jesus is uncreated and the creator of ra all things in the beginning was the word and the word was with ra god and the word was god the same was in the beginning with god ra all things were made by him and without him was not any thing made ra that was made john and he is before all things and by ra him all things consist colossians ra ra your inference from the ezekiel and john passages that lucifer was ra created and that jesus was not depends on a particular interpetation of ra the word create one with which many christians may not agree ra granted the mormon belief that all of gods children including christ ra and lucifer are eternally existent intelligences which were organized ra into spirit children by god the term creation can apply equally well ra to both of those passages just briefly on something that you mentioned in passing you refer to differing interpretations of create and say that many christians may not agree so what that is really irrelevant we do not base our faith on how many people think one way or another do we the bottom line is truth regardless of popularity of opinions also i find it rather strange that in trying to persuade that created and eternally existent are equivalent you say granted the mormon belief you cant grant your conclusion and then expect the point to have been addressed in order to reply to the issue you have to address and answer the point that was raised and not just jump to the conclusion that you grant the bible states that lucifer was created the bible states that jesus is the creator of all the contradiction that we have is that the lds belief is that jesus and lucifer were the same ra your point that we all are brothers of jesus and lucifer is also ra heretical since we are not innately brothers and sisters of christ ra we are adopted for ye have not received the spirit of bondage ra again to fear but ye have received the spirit of adoption whereby ra we cry abba father romans and not the natural children ra of god it is only through faith that we even enter the family of ra god for ye are all the children of god by faith in christ jesus ra galatians and it is only through the manifestation of this ra faith in receiving jesus that we are become the sons of god but ra as many as received him to them gave he power to become the sons of ra god even to them that believe on his name which were born not ra of blood nor of the will of the flesh nor of the will of man but ra of god john ra ra has it occured to you robert that being born of someone or being ra of that person or persons family may be a symbolic term in the new ra testament mormons believe that we are adopted into the house of ra israel through baptism and faith in christ although some have expressed ra belief that this does evince a physical change in our bodies the mormon belief is that all are children of god literally there is nothing symbolic about it this however contradicts what the bible says the bible teaches that not everyone is a child of god the field is the world the good seed are the children of the kingdom but the tares are the children of the wicked one matthew i speak that which i have seen with my father and ye do that which ye have seen with your father john ye do the deeds of your father then said they to him we be not born of fornication we have one father even god jesus said unto them if god were your father ye would love me for i proceeded forth and came from god neither came i of myself but he sent me why do ye not understand my speech even because ye cannot hear my word ye are of your father the devil and the lusts of your father ye will do he was a murderer from the beginning and abode not in the truth because there is no truth in him when he speaketh a lie he speaketh of his own for he is a liar and the father of it john and said o full of all subtilty and all mischief thou child of the devil thou enemy of all righteousness wilt thou not cease to pervert the right ways of the lord acts wherein in time past ye walked according to the course of this world according to the prince of the power of the air the spirit that now worketh in the children of disobedience ephesians in this the children of god are manifest and the children of the devil whosoever doeth not righteousness is not of god neither he that loveth not his brother john one becomes a child of god but as many as received him to them gave he power to become the sons of god even to them that believe on his name john behold what manner of love the father hath bestowed upon us that we should be called the sons of god therefore the world knoweth us not because it knew him not beloved now are we the sons of god and it doth not yet appear what we shall be but we know that when he shall appear we shall be like him for we shall see him as he is john when he is born again through faith in jesus christ which were born not of blood nor of the will of the flesh nor of the will of man but of god john having predestinated us unto the adoption of children by jesus christ to himself according to the good pleasure of his will ephesians of his own will begat he us with the word of truth that we should be a kind of firstfruits of his creatures james for as many as are led by the spirit of god they are the sons of god for ye have not received the spirit of bondage again to fear but ye have received the spirit of adoption whereby we cry abba father the spirit itself beareth witness with our spirit that we are the children of god romans beloved let us love one another for love is of god and every one that loveth is born of god and knoweth god john whosoever believeth that jesus is the christ is born of god and every one that loveth him that begat loveth him also that is begotten of him john for ye are all the children of god by faith in christ jesus galatians ra we are told that and this is life eternal that they might know ra thee the only true god and jesus christ whom thou hast sent ra john life eternal is to know the only true god yet the ra doctrines of the lds that i have mentioned portray a vastly ra different jesus a jesus that cannot be reconciled with the jesus of ra the bible they are so far removed from each other that to proclaim ra one as being true denies the other from being true according to the ra bible eternal life is dependent on knowing the only true god and ra not the construct of imagination ra ra ra robert with all due respect who died and left you chief arbiter of ra correct biblical interpretation i dont mean to be snotty about this ra but the fact is that the bible is so differently interpreted by different ra groups of biblical scholars what do you think of the jehovahs ra witnesses for example that to make reference to the jesus of the ra bible is simply ridiculous whose jesus of the bible do you mean this is really a red herring it doesnt address any issue raised but rather it seeks to obfuscate the fact that some groups try to read something into the bible doesnt change what the bible teaches for example the fact that the jehovahs witnesses deny the deity of christ does not alter what the bible teaches looking for that blessed hope and the glorious appearing of the great god and our saviour jesus christ titus simon peter a servant and an apostle of jesus christ to them that have obtained like precious faith with us through the righteousness of god and our saviour jesus christ peter on the deity of christ we first look to the bible to see what it teaches to discount or not even address what the bible teaches because there are some groups that have differing views is selfdefeating to see what the bible teaches you have to look at the bible ra our lords mortality was essential to his own salvation the ra promised messiah p he had to work out his own salvation by ra doing the will of the father in all things ibid p he had ra to be baptized to gain admission to the celestial kingdom mormon ra doctrine p ra ra welcome to the wonderful world of mormon paradoctrine robert the ra above books are by the late bruce r mcconkie a former general authority ra of the lds church those books were not published by the church nor do ra they constitute offical doctrine they consist of his opinions now ra does that mean that what he says is not true not at all ill have to ra think about the idea of christs personal salvation before i come to any ra conclusions myself the conclusions i come to may seem heretical to ra you but im prepared to accept that i find this rather curious when i mentioned that the mormon belief is that jesus needed to be saved i put forward some quotes from the late apostle bruce mcconkie the curious part is that no one addressed the issue of jesus needing to be saved rick comes the closest with his i have my own conclusions to addressing the point most of the other replies have instead hopscotched to the issue of bruce mcconkie and whether his views were official doctrine i dont think that it matters if mcconkies views were canon that is not the issue were mcconkies writings indicative of mormon belief on this subject is the real issue the indication from rick is that they may certainly be",
         "2",
         "talk.religion.misc"
        ],
        [
         "43",
         "no instead you have stupid things like and and and and and how many ccs in a ml anyway the metric system has its problems just not as many of them",
         "1",
         "sci.space"
        ],
        [
         "44",
         "ive been trying to figure out a way to get adobe illustrator to autotrace exactly what i see on my screen but it misses the edges of templates by as many as pixels or more resulting in images that are useless i need exact tracing not approximate ive tried adjusting the freehand tolerances as well as autotrace tolerances but it doesnt help any suggestions",
         "0",
         "comp.graphics"
        ],
        [
         "45",
         "getting an image from a computer monitor to a videotape is harder than it looks the standard vga and ega outputs are very different than the ntsc format used by televisions while there is equipment that will do the conversion it is hard to get your hands on and costs quite a bit if you have access to an amiga computer that has an ntsc output you can transfer certain types of graphic files by modem and tape them from the ntsc output unfortunately this would be framebyframe and would lead to unbelievably scratchy animation unless you had a good amiga animation program",
         "0",
         "comp.graphics"
        ],
        [
         "46",
         "yeah and its also true most long complicated sequences of events calculations or big computer programs in general i dont argue that you can get similar and maybe useful results from fractals i just question whether you should the fractal fiends seem to be saying that any part of a system that we cant model should be replaced with a random number generator that has been useful for instance in making data more palatable to human perception or for torture testing the rest of the system but i dont think it has much to do with fractals and i certainly would rather that the model be improved in a more explicable manner i guess i just havent seen all these earthshaking fractal models that explain and correlate to the universe as it actually exists i really hope i do but im not holding my selfsimilar breath uh huh ill believe it when i see it ive been chasing fractal compression for a few years and i still dont believe in it if its so great how come we dont see it competing with jpeg cause it cant ill wager actually i have wagered i quit trying to make fractal compression work and i was trying because i dont think its a reasonable alternative to other techniques it is neat though ill reiterate my disbelief that everything is fractal thats why i dont think fractal compression as it is widely explained is practical i know barnsley and sloan have some tricks up their sleeves that make their demos work but i dont see anyone using it in a real product its been six years since iterated systems was formed right there are always going to be questions until theres a product out there sloan replies the company plans to ship its first encoding devices in the summer he says in march iterated systems will have the other half of the system the decoders scientific american march page",
         "0",
         "comp.graphics"
        ],
        [
         "47",
         "paul for the same reason that many other colonies are founded why not",
         "1",
         "sci.space"
        ],
        [
         "48",
         "i think the passage youre looking for is the following matthew think not that i have come to abolish the law and the prophets i have come not to abolish them but to fulfil them matthew for truly i say to you till heaven and earth pass away not an iota not a dot will pass from the law until all is accomplished matthew whoever then relaxes one of the least of these commandments and teaches men so shall be called least in the kingdom of heaven but he who does them and teaches them shall be called great in the kingdom of heaven matthew for i tell you unless your righteousness exceeds that of the scribes and pharisees you will never enter the kingdom of heaven there are several problems with this the most serious is that the law was regarded by jews at the time and now as binding on jews but not on gentiles there are rules that were binding on all human beings the socalled noachic laws but they are quite minimal the issue that the church had to face after jesus death was what to do about gentiles who wanted to follow christ the decision not to impose the law on them didnt say that the law was abolished it simply acknowledged that fact that it didnt apply to gentiles this is a simple answer which i think just about everyone can agree to a discussion of the issue in more or less these terms is recorded in acts however theres more involved in order to get a full picture of the role of the law we have to come to grips with pauls apparent rejection of the law and how that relates to jesus commendation of the law at least as i read paul he says that the law serves a purpose that has been in a certain sense superceded again this issue isnt one of the abolition of the law in the middle of his discussion paul notes that he might be understood this way and assures us that thats not what he intends to say rather he sees the law as primarily being present to convict people of their sinfulness but ultimately its an impossible standard and one that has been superceded by christ pauls comments are not the worlds clearest here and not everyone agrees with my reading but the interesting thing to notice is that even this radical position does not entail an abolition of the law it still remains as an uncompromising standard from which not an iota or dot may be removed for its purpose of convicting of sin its important that it not be relaxed however for christians its not the end ultimately we live in faith not law while the theoretical categories they use are rather different in the end i think jesus and paul come to a rather similar conclusion the quoted passage from mat should be taken in the context of the rest of the sermon on the mount where jesus shows us how he interprets the law the not an iota or dot would suggest a rather literal reading but in fact thats not jesus approach jesus interpretations emphasize the intent of the law and stay away from the ceremonial details indeed he is well known for taking a rather free attitude towards the sabbath and kosher laws some scholars claim that mat needs to be taken in the context of st cent jewish discussions jesus accuses his opponents of caring about giving a tenth of even the most minor herbs but neglecting the things that really matter justice mercy and faith and caring about how cups and plates are cleaned but not about the fact that inside the people who use them are full of extortion and rapacity mat this and the discussion later in mat suggest that jesus has a very specific view of the law in mind and that when he talks about maintaining the law in its full strength he is thinking of these aspects of it pauls conclusion is similar while he talks about the law being superceded all of the specific examples he gives involve the ceremonial law such as circumcision and the sabbath he is quite concerned about maintaining moral standards the net result of this is that when paul talks about the law being superceded and jesus talks about the law being maintained i believe they are talking about different aspects of the law paul is embroiled in arguments about circumcision as is natural in letters responding to specific situations hes looking at the aspect of the law that is currently causing trouble the law as specifically jewish ceremonies he certainly does not intend to abolish divine standards of conduct on the other hand when jesus commends the law he seems to be talking the law in its broadest implications for morals and human relationships and deemphasizing those aspects that were later to give paul so much trouble",
         "2",
         "talk.religion.misc"
        ],
        [
         "49",
         "im not sure but it almost sounds like they cant figure out where the nucleus is within the coma if theyre off by a couple hundred miles well you can imagine the rest",
         "1",
         "sci.space"
        ]
       ],
       "shape": {
        "columns": 3,
        "rows": 2588
       }
      },
      "text/html": [
       "<div>\n",
       "<style scoped>\n",
       "    .dataframe tbody tr th:only-of-type {\n",
       "        vertical-align: middle;\n",
       "    }\n",
       "\n",
       "    .dataframe tbody tr th {\n",
       "        vertical-align: top;\n",
       "    }\n",
       "\n",
       "    .dataframe thead th {\n",
       "        text-align: right;\n",
       "    }\n",
       "</style>\n",
       "<table border=\"1\" class=\"dataframe\">\n",
       "  <thead>\n",
       "    <tr style=\"text-align: right;\">\n",
       "      <th></th>\n",
       "      <th>data</th>\n",
       "      <th>target</th>\n",
       "      <th>target_names</th>\n",
       "    </tr>\n",
       "  </thead>\n",
       "  <tbody>\n",
       "    <tr>\n",
       "      <th>0</th>\n",
       "      <td>i think i can largely as a result of efforts b...</td>\n",
       "      <td>1</td>\n",
       "      <td>sci.space</td>\n",
       "    </tr>\n",
       "    <tr>\n",
       "      <th>1</th>\n",
       "      <td>in regards to fractal commpression i have seen...</td>\n",
       "      <td>0</td>\n",
       "      <td>comp.graphics</td>\n",
       "    </tr>\n",
       "    <tr>\n",
       "      <th>2</th>\n",
       "      <td>background the orion spacedrive was a theoreti...</td>\n",
       "      <td>1</td>\n",
       "      <td>sci.space</td>\n",
       "    </tr>\n",
       "    <tr>\n",
       "      <th>3</th>\n",
       "      <td>do what thou wilt shall be the whole of the la...</td>\n",
       "      <td>2</td>\n",
       "      <td>talk.religion.misc</td>\n",
       "    </tr>\n",
       "    <tr>\n",
       "      <th>4</th>\n",
       "      <td></td>\n",
       "      <td>1</td>\n",
       "      <td>sci.space</td>\n",
       "    </tr>\n",
       "    <tr>\n",
       "      <th>...</th>\n",
       "      <td>...</td>\n",
       "      <td>...</td>\n",
       "      <td>...</td>\n",
       "    </tr>\n",
       "    <tr>\n",
       "      <th>2583</th>\n",
       "      <td>i get regular questions about gamma correction...</td>\n",
       "      <td>0</td>\n",
       "      <td>comp.graphics</td>\n",
       "    </tr>\n",
       "    <tr>\n",
       "      <th>2584</th>\n",
       "      <td>when robert refers to the orthodox he is talki...</td>\n",
       "      <td>2</td>\n",
       "      <td>talk.religion.misc</td>\n",
       "    </tr>\n",
       "    <tr>\n",
       "      <th>2585</th>\n",
       "      <td>hello there a week ago a guy asked what a sco ...</td>\n",
       "      <td>0</td>\n",
       "      <td>comp.graphics</td>\n",
       "    </tr>\n",
       "    <tr>\n",
       "      <th>2586</th>\n",
       "      <td>ive been playing with a program called piclab ...</td>\n",
       "      <td>0</td>\n",
       "      <td>comp.graphics</td>\n",
       "    </tr>\n",
       "    <tr>\n",
       "      <th>2587</th>\n",
       "      <td>yes just take money from the profitable commer...</td>\n",
       "      <td>1</td>\n",
       "      <td>sci.space</td>\n",
       "    </tr>\n",
       "  </tbody>\n",
       "</table>\n",
       "<p>2588 rows × 3 columns</p>\n",
       "</div>"
      ],
      "text/plain": [
       "                                                   data  target  \\\n",
       "0     i think i can largely as a result of efforts b...       1   \n",
       "1     in regards to fractal commpression i have seen...       0   \n",
       "2     background the orion spacedrive was a theoreti...       1   \n",
       "3     do what thou wilt shall be the whole of the la...       2   \n",
       "4                                                             1   \n",
       "...                                                 ...     ...   \n",
       "2583  i get regular questions about gamma correction...       0   \n",
       "2584  when robert refers to the orthodox he is talki...       2   \n",
       "2585  hello there a week ago a guy asked what a sco ...       0   \n",
       "2586  ive been playing with a program called piclab ...       0   \n",
       "2587  yes just take money from the profitable commer...       1   \n",
       "\n",
       "            target_names  \n",
       "0              sci.space  \n",
       "1          comp.graphics  \n",
       "2              sci.space  \n",
       "3     talk.religion.misc  \n",
       "4              sci.space  \n",
       "...                  ...  \n",
       "2583       comp.graphics  \n",
       "2584  talk.religion.misc  \n",
       "2585       comp.graphics  \n",
       "2586       comp.graphics  \n",
       "2587           sci.space  \n",
       "\n",
       "[2588 rows x 3 columns]"
      ]
     },
     "execution_count": 6,
     "metadata": {},
     "output_type": "execute_result"
    }
   ],
   "source": [
    "df = clean_text(df,'data')\n",
    "df"
   ]
  },
  {
   "cell_type": "code",
   "execution_count": 7,
   "id": "aebd79c5",
   "metadata": {},
   "outputs": [],
   "source": [
    "import nltk\n",
    "from nltk.tokenize import word_tokenize\n",
    "from nltk.corpus import stopwords\n",
    "from nltk.stem import WordNetLemmatizer\n",
    "\n",
    "def tokenize_clean_lemmatize(df, text_column):\n",
    "    \"\"\"\n",
    "    Tokenizes text, removes stopwords, and applies lemmatization.\n",
    "    \n",
    "    Args:\n",
    "        df (pd.DataFrame): The input DataFrame.\n",
    "        text_column (str): The column containing text data.\n",
    "\n",
    "    Returns:\n",
    "        pd.DataFrame: A DataFrame with processed text.\n",
    "    \"\"\"\n",
    "    stop_words = set(stopwords.words('english'))\n",
    "    lemmatizer = WordNetLemmatizer()\n",
    "\n",
    "    def process_sentence(text):\n",
    "        # Tokenization\n",
    "        tokens = word_tokenize(text)\n",
    "        # Removing stopwords & applying lemmatization\n",
    "        cleaned_tokens = [lemmatizer.lemmatize(word,pos='v') for word in tokens if word.lower() not in stop_words]\n",
    "        return \" \".join(cleaned_tokens)\n",
    "\n",
    "    df[text_column] = df[text_column].astype(str).apply(process_sentence)\n",
    "    return df"
   ]
  },
  {
   "cell_type": "code",
   "execution_count": 8,
   "id": "341d87fb",
   "metadata": {},
   "outputs": [
    {
     "data": {
      "application/vnd.microsoft.datawrangler.viewer.v0+json": {
       "columns": [
        {
         "name": "index",
         "rawType": "int64",
         "type": "integer"
        },
        {
         "name": "data",
         "rawType": "object",
         "type": "string"
        },
        {
         "name": "target",
         "rawType": "int64",
         "type": "integer"
        },
        {
         "name": "target_names",
         "rawType": "object",
         "type": "string"
        }
       ],
       "conversionMethod": "pd.DataFrame",
       "ref": "97eee5cd-cf02-4aac-b6e4-eaed52036ae8",
       "rows": [
        [
         "0",
         "think largely result efforts people read group write letter make phone call follow happen nasa reprogrammed fund keep nasp alive efforts kill dcx ssrt progam twice twarted feb june last year gouldin keep job spite heavy lobby may mark think show readers scispace power influence allen",
         "1",
         "sci.space"
        ],
        [
         "1",
         "regard fractal commpression see fractal compress movies fairly impressive first one gray scale movie casablanca mb minutes fps video little grainy bad second one saw minutes bite color fps measure mb consider fractal movies practical thing explore unlike many format end lose resolution dont know kind softwarehardware use create movies saw guy show say take minutes per frame generate say playback frame per second else could put minutes one floppy disk",
         "0",
         "comp.graphics"
        ],
        [
         "2",
         "background orion spacedrive theoretical concept would drive use thermonuclear explosions drive spacecraft idea youd detonate devices somewhere one ten megatons yield behind pusher plate attach main spacecraft shock wave explosions would transfer momentum ship atmosphere see energy explosion heat atmosphere expand explosively slam shock wave pusher plate vacuum two things see go hit plate fissionfusion products barium krypton helium neutrons evaporate bomb case electromagnetic radiation gammas mostly lightheat irradiate fission products would work cant see em radiation impel much momentum especially give mass pusher plate seem youre go get momentum transfer throw bomb back ship get detonate theyre must miss something would someone enlighten via email thank jim",
         "1",
         "sci.space"
        ],
        [
         "3",
         "thou wilt shall whole law honestly word sin restriction would kid one man word encompass majestic vision thousands individuals quote man quote order take context word interpret much differently one apply within confine original expression think case regard hymenaeus beta frater superior order belong include bite merlinus x us service show us extremes order members know go fervor little knowledge regard reuss background surely unusual man important force order many years yet people change order change look back carefully dirty laundry oto remember surface skim many perspectives encompass extend beyond one individual hope show much room difference opinion within order perhaps test limit let us examine issue bite closely karl kellner wealthy austrian industrialist paper chemist well highgrade mason found ordo templi orientis kellner travel widely east meet three adepts instruct specific magical practice kellners efforts develop order later assist franz hartmann heinrich klein theodore reuss work together prior join oto order first proclaim reusss masonic publication oriflamme kellners death reuss succeed outer head oho jubilee edition oriflamme publish announce order teach secret sexual magic theodore reuss interest character bear june augsburg enter masonry singer journalist possibly spy prussian political police infiltrate socialist league found karl marxs daughter husband reuss later associate william wynn westcott leader golden dawn later introduce john yarker yarker charter reuss find rites memphis mizraim germany several attempt concretize various masonic rites reuss settle development oto order experience reasonably steady growth reuss leadership example charter papus france rudolph steiner berlin h spencer lewis usa historic meet reuss crowley occur crowley write reuss come accuse reveal order secrets crowley look afresh initiate interpretation sexual magick unfold first time reuss appoint crowley supreme holy king english speak world authorization invoke publish material equinox reuss resign outer head order suffer stroke name crowley successor well book law translate german break continuity order manyk members split new oho book crowley actively promulgate order earlier revise dthe order rituals reusss request deeply infuse doctrines new aeon revelation introduction history oto ad veritatem ix within equinox iii edit hymenaeus beta frater superior rex summus sanctissimus caliph unite state america publish samuel weiser many possible reason frater superior include material equinox iii real point wish publish things history organization represent dogmatic threat principle thelema exercise true put forth complex picture easy answer picture leave room many interpretations quite easy see example oto derive dribble falter masonry purchase clever huckster ounce courage write ability aid take way present caliph whose feeble support law thelema laughable best would throw order speak way think frater see perspective interjection use example illustration show may express things context larger work true significance may quite difficult apprehend first may oto merlinus x please look oto carefully support reusss word qualify assess critical pomposity member order take stand allow continue say health order mean order go soft abandon moral principles mean strong ability let universal kinship arise shackle dogmatic requirement shall resolve two possibilities find high calibre individual associate ordo templi orientis often quite intelligent sometimes well verse arcane usual information quite often artists geniuses meet longstanding members sf bay area many heavily involve order vouch integrity organization stand sometimes question policy hymenaeus beta moments follow intuition ive find little stop request second initiation different oto body im happily participate social group feast initiations come know gnostic mass well enough taste doesnt make authority order politics explanations however hypothesize relay understand base limit contact members urge take word merlinus x far many ways interpret word many people become involve order feel strongly sanctity personal freedom preservation individual vision welcome comment issue write response post thread invoke star love law love",
         "2",
         "talk.religion.misc"
        ],
        [
         "4",
         "",
         "1",
         "sci.space"
        ],
        [
         "5",
         "kudos mark generous offer already exist large emailbased forward system scispace post space digest mirror scispace exactly provide simple twoway communication subscribe send follow message body subject email message subscribe space john q public one address listservuga listservugaccugaedu listservfinhutc listservfinhuchutfi spacerequestisuisunetedu youll receive post digest form day please use listserv spacerequest address handle manually post message send message reasonable subject line spaceisuisunetedu question comment spacerequestisuisunetedu",
         "1",
         "sci.space"
        ],
        [
         "6",
         "speak one know relativity quantum mechanics say bullshit speak one take lsd say bullshit could strive toward ideal way useful ideal objective existence mark pundurs",
         "2",
         "talk.religion.misc"
        ],
        [
         "7",
         "sorry folks do mean hit send key orbital elements comet vii dance file pau e capomega w epoch also perihelions gehrels april jupiter radii august jupiter radii hope helpsim even less orbital mechanic artist",
         "1",
         "sci.space"
        ],
        [
         "8",
         "actuallay dont hand dont support idea one newsgroup every aspect graphics program propose brian reply original post would suggest looser structure like compgraphicsprogrammer compgraphicshwandsw reason make group possible reason say shouldnt spill get postings every day take much time browse postings find two three im interest understand agree say want aspects graphics one meet agree extension see news forum exchange ideas help others help think difficult achive many different things one meet good even netters",
         "0",
         "comp.graphics"
        ],
        [
         "9",
         "immediate release contact oasis april los angeles ca local national space society chapters sponsor talk la advocate lunar power system energy source world april oasis ventura county chapters national space society sponsor talk lunar power system lps co inventor vicepresident lps coalition dr robert waldron hold pm rockwell science center thousand oaks ca dr waldron currently technical specialist space materials process space systems division rockwell international downey california recognize world authority lunar materials refinement write coauthored article report nonterrestrial materials process utilization along dr david criswell waldron invent lunarsolar power system concept momentum build coalition entrepreneurs legal experts soviet us scientists engineer build lunar power system pollutionfree energy source potential power globe past three years members coalition nearly half california rejuvenate commercial scientific concept solar power system base moon lps concept entail collect solar energy lunar surface beam power earth microwave transmit orbit antennae mature lps offer enormous source clean sustainable power meet earth ever increase demand use prove basic technology oasis organization advancement space industrialization greater los angeles chapter national space society international nonprofit organization promote development space frontier ventura county chapter base oxnard ca rockwell science center auditorium camino do rios thousand oaks ca",
         "1",
         "sci.space"
        ],
        [
         "10",
         "im work upon game use isometric perspective similar use populous basically look room look similar follow xxxx xxxxx xxxx xxxx x xxxx xxxx x xxxx xxxx xxxx xxxx x xxxx xxxx x x xxxx xxxx x x xxxx xxxx x xxxx xxxx xxxx xxxx xxxx xxxx xxxx xxxx xxxx good thing perspective look move around three dimension still maintain peripheral vision since viewpoint always routines hardcoded particular vantage case wall twos rise edge slope im also use mode x x ive run two problems im sure readers try perhaps formulate opinions routines draw wall trivial run packedplanar image dismay jaggies im consider antialiasing routines speed really necessary worth effort artist draw wall already skew thus assure nice image much burden wall present problem algorithm use tend overly distort original try decide paper pixels go fail anyone come method map planar crosswise shear shape currently take produce line follow slope line directly line line move line leave pixels line line fill shape exactly without unfilled pixels cause distortions anyone come better way perhaps necessary simply draw original bitmap already skew particularly sticky problems perspective plan hide plane removal use zbuffering locations store xyz form notice top line wall wall parallel bottom line appear optical illusion ie appear either inside outside cube depend mood vanish point simplify draw code object dont change size move room ive decide approximation alright since small displacements large enough distance cause little change apparent size object real perspective draw hopefully context picture ie chair floor torch hang wall dispell visual ambiguity thank advance help",
         "0",
         "comp.graphics"
        ],
        [
         "11",
         "ignorance strength",
         "2",
         "talk.religion.misc"
        ],
        [
         "12",
         "well pardon try continue discussion rather tug forelock dismay consider actually try recover energy process least try go right way energy curve put sackcloth ash pretend anything please surprise though note didnt say perpetual motion even sound like perpetual motion phrase sound almost like perpetual motion least consider somewhat different propposition one elect criticize perhaps beg pardon precise use language believe process come even close approach technological economic feasibility give mix nature trash run oppose cost separate things first different run actinide see dump tons one end pull relatively clean material cost technological risk etc take account still class one idea throw waste sun sure possible physics well understand really reasonable approach still wonder sort burn rate could get something like oppose kind energy would really recover oppose would cost build power without energy recovery talk ounces pound tons grams kilograms metric tons si fan material talk days weeks months years days weeks months years si fan hmmm still use nondecimated time scale see insist perfect safety people dont ball live real world mary shafer nasa ames dryden",
         "1",
         "sci.space"
        ],
        [
         "13",
         "hi problem im certain im solve correct way wonder anyone shed light point right place look xray image camera metallic tube cylindrical hole pass right angle tube axis image xray source screen metallic tube know sourcescreen centre distance radius tube radius hole calculations base image hole screen however calculations mathematically highly complex must assume object hole project image resemble ellipse tube parallel screen centre screen however unlikely object place conveniently firstly must transform major minor axis ellipse know angle tube screen assume parallel transformation transformation secondly distortion image due screen planar sourcescreen distance increase move away centre screen compensate ellipses axis image distortion please anyone give us pointers transform image appear would centre screen deal distortion due shape screen wed appreciate help either post email thank advance simon",
         "0",
         "comp.graphics"
        ],
        [
         "14",
         "announce reward billion would go first corporation successfully keep least person alive moon year b offer problem keep alive highly likely involve lunar environment oh dear freighter land roof acmes base die sad gosh leave us oldest residents quick boss slime yoyodyne back time theyve get tank man gun one could imagine sort technologies develop sort environment greg im kid btw although problem winnertakesall prize encourage sort undesirable behaviour witness military procurement program b probably far small reward encourage would expensive high risk proposition",
         "1",
         "sci.space"
        ],
        [
         "15",
         "lewb let add percentages orphaic docterians bring lewbto group paulsaul high rank initiate lewbdevelopment orphaic mysteries see jane harrisons prolegomena lewbstudy greek religion cambridge u press easly draw lewbyour conclusions josh perhaps quote bite argument",
         "2",
         "talk.religion.misc"
        ],
        [
         "16",
         "object file cad program write tom hudson atari st computers dont know much except store point first surface next make list point number make triangle surface theres header describe color light etc dont know much hope help",
         "0",
         "comp.graphics"
        ],
        [
         "17",
         "hello everybody use pixars renderman scene description language create worlds please help im use renderman library next documentation nextstep version renderman available create complicate scenes render use surface shaders bring life apply shadow reflections far understand define environmental shadow map produce reflections shadow know use advise simple rib c examples appreciate thank advance",
         "0",
         "comp.graphics"
        ],
        [
         "18",
         "inflate substance longer need since nothing cause balloon collapse inflatable structure could suffer multiple hole disastrous deflation preasure internal preasure need maintain spherical shape resistance cause catastrophically deflate large silver shards billboard pop like dime store balloon youre wrong give time get reference",
         "1",
         "sci.space"
        ],
        [
         "19",
         "gravity maneuver use exploit fuzzy regions describe inventor exploit secondorder perturbations three body system probe launch region earthmoonsun system perturbations affect way allow go lunar orbit without large expenditures fuel slow idea natural object sometimes get capture without expend fuel well find trajectory make possible originator technique say nasa wasnt interest japan probe small couldnt hold lot fuel deceleration issue science news planetary report believe months ago",
         "1",
         "sci.space"
        ],
        [
         "20",
         "recent observations take hubble space telescope faint object spectrograph fos use make ultraviolet observations planet pluto moon charon peakups successful observations execute schedule problems report observations make use high speed photometer planet uranus occultation faint star capricornus observations help understand planets atmospheric radiative dynamical process event occur close last quarter moon special arrangements make modify lunar limit test allow observations observations currently review observations look okay",
         "1",
         "sci.space"
        ],
        [
         "21",
         "never say didnt publish merely data dont publish noone scoriates case ibm research publish plenty end nobel prize last years project deem company confidential att bell labs keep lot stuff private like karamankars algorithm private moeny entitle please within bound law keepers temple science please shove pointy little head conically shape posterior orifices pat",
         "1",
         "sci.space"
        ],
        [
         "22",
         "yeah corel draw wordperfect presentations pretty limit since theres really thing decent raster vector conversion program trace technique simple stuff like bw logos etc pretty well complicate stuff go haywire suspect even though dont write code good bitmapped vector conversion program would probably big application softwares use even come one hasnt write knowledge mean even hijaak one commercial industry standards file conversion hasnt attempt yet",
         "0",
         "comp.graphics"
        ],
        [
         "23",
         "produce error last week chorion abhor publish trash abhor even others since present authority subject feel dishonest though openly admit ignorance incompetence example thus felt honor bind better set research specifically word first note greek grammar tough first assume nontrivial mean still competent opaque think turn index bauerarndtgingrich greek lexicon render verse order word within verse put greek alphabetical order thus mean verse decipherable syntax far clear hand greekenglish intralinear bible make things lot comprehendable yes word field act indeed chorion ive check several greekenglish lexicons greek english lexicon new testament louw nida robinsons greek english lexicon new testament greek english lexicon new testament grimm word study concordance tynsdale greek english lexicon new testament early christian writings bauerarndtgingrich new analytical greek lexicon perschbacher case mean word chorion give variously space place region district field area country place land farm estate bite tillage similar meanings nowhere book mention anything grave book go great detail would surprise find book inadequate mr archer competent scholar greek think likely mr archers investigations contradictions friend say lack substance thus archer show worthless expert witness way mr decenso would honorably present result matter even find support mr archers contentions way among lexicons eg robinsons definition agros word use matthew describe field buy word agros define field country chorion specifically note synonym agros significant evidence silly bullingers exegisis state word field matthew ie agros different word field act ie chorion thus must talk two different field course already admit stupid bullingers exegisis small serendipity drive point home unless mr decenso show compel reason believe otherwise eg reputable scholar reputable reference consider particular issue close see mr decenso go answer question denials peter day crucifixion tyre fact author matthew quote wrong prophet discuss potter field later dave butler",
         "2",
         "talk.religion.misc"
        ],
        [
         "24",
         "well first work much cold gas need make tank big enough work much cold gas another problem depend vehicle configuration flight duration thruster isp couple storage pressure may factor select tank wall thickness etc",
         "1",
         "sci.space"
        ],
        [
         "25",
         "deserve frame really atoms arent even real tell atoms see electron microscopes atoms figments imaginations evidence atoms real overwhelm wont bother evidence moment",
         "2",
         "talk.religion.misc"
        ],
        [
         "26",
         "absolutely lewis didnt care oto charter reuss mind something completely diferent crowley lewis different persons probably know overstatement sorry",
         "2",
         "talk.religion.misc"
        ],
        [
         "27",
         "hi guy like people group im fan fractal render sw favourite fractint pov dstudio listen ideas ihave start able use dstudio quite well im simulate full animation f grand prix unfortanatly lap interest kind prj ds concern cars part motor wheel dxf good enough anyone object give complete hard animation anyway exchange object material project apreciate ftp site find look pov file interest cpu time comparision render image pov dstusio thank",
         "0",
         "comp.graphics"
        ],
        [
         "28",
         "let see arent strict sense amateur rocket term denote rocket engines construct user rocket describe call hpr high power rocket distinguish smaller model rocket use factorymade ammonium perchlorate composite propellants phenolic plastic engines graphite nozzles engines classify impulse engine example newtonseconds impulse f engine ns letter correspond double maximum impulse far engines size available pretty much shelf engines size h ship class b explosives control engines size f ship class c explosives control class f engines btw hpr engines model rocket engines class g engines go legal limbo hpr society tripoli rocket society believe hold events various sit throughout year legalities faa waiver include take care national association rocketry concern engines h though involve hpr well societies certify users hpr rocket company sell uncertified individuals bottom line legit suggest send catalog forget dynamite ya",
         "1",
         "sci.space"
        ],
        [
         "29",
         "idea efficient moon habitat also idea get people moon prize also idea rescue someone die moon maybe area see help something happen liek idea one prize first moon land return nongovernmental body also idea moon habitat race know need somthing get people involve eccentric millionairebillionaire would nice see old ross feel would great promotional thing way show care commericalization people try broach subject moonbase cheap good idea nasa friends seem take much time give us expensive stuff late work hubble basically difference mil peice junk multi mil piece junk know junk",
         "1",
         "sci.space"
        ],
        [
         "30",
         "interest seminar work uks ral space science dept subject specifically smallscale solar sail propose student space project guy give talk keen generate interest project ill typein handout give meet go microlight solar sail introduction solar sail wellestablished concept harness pressure sunlight spacecraft would unlimited range principle vehicle could explore whole solar system zero fuel consumption however difficult design practical solar sail people realize pressure sunlight one kilogram per square kilometer deploy control large area aluminize fabric would necessary transport conventional type spacecraft daunt task despite potential hte idea craft actually launch date design recent advance microelectronics make possible different concept tiny sail metres diameter could control purely electronics mechanical part several attitude control methods feasible example pressure sunlight exert panel solar cells vary accord whether power draw key components craft minute ccd camera develop edinburgh university act attitude sensor data gather device solar cells provide watt power control communication directional radio antenna etch onto surface sail launch piggyback payload total cost mission limit tens thousands dollars missions craft would capable ambitious missions example could rendezvous nearby asteroid apollo amor group closeup picture could transmit back earth low bite rate b could steer lunar polar orbit previously unobserved areas around lunar pole could view angle sail reflect sunlight downwards polar craters whose base never receive sunlight could image bright reflections would confirm volatiles water ice become trap locationsimmensely valuable information set man lunar base btw c could send rendezvous small asteroid comet nucleus impact low speed thin wire probe attach craft cause rebound capture tiny sample sharpedged tube like perform biopsy return earth sail act ideal reentry parachute load per unit area gmm ensure heat reradiated efectively sail temperature exceed deg c material sample recover enclose small insulate container contact colin jack tel oxford mathematical design high street oxford ox dh england guy would love hear anyone interest project seek detail anything would happy send information andy",
         "1",
         "sci.space"
        ],
        [
         "31",
         "medtroniccom dale skiba entirely miss point previous comment shortly post realize two things run fever probably go directly read altslack post august newsgroup ad hominen point mr archer willingly print blatant lie defense bible inerrancy thus worthless expert witness okay im game give us list blatant lie encyclopedia biblical difficulties archer writings would interest short list generate think likely mr archer inerancy mindset always impartial make doozy mistake imho also think mindset tend generate sort mistake hand long list generate likely mr archer intentionally use deception hs book deceptive tyre archer sit around rub hand plot next deceive ok let see list open question assume mr archer chronic liar someone whould document assumption base talkorigins regulars document numerous case creationist deceptions duane guish friends long list archer mistake yet give may isolate incident",
         "2",
         "talk.religion.misc"
        ],
        [
         "32",
         "report crt register state mode thank",
         "0",
         "comp.graphics"
        ],
        [
         "33",
         "use iterate systems compression board compress pathology image get ratios without much loss quality take mins per image compress mhz decompression almost real time software alone",
         "0",
         "comp.graphics"
        ],
        [
         "34",
         "macuser come graphics thats software hardware ive recently come across large number tttddd format model databases software mac unix translate something could use like dxf please reply via email",
         "0",
         "comp.graphics"
        ],
        [
         "35",
         "someone please remind say well know quotation sit atop rocket await liftoff afterwards answer question think say approximately half million components work perfectly supply lowest bidder attribution correction quote would much appreciate",
         "1",
         "sci.space"
        ],
        [
         "36",
         "weight americans equal salvadorans",
         "2",
         "talk.religion.misc"
        ],
        [
         "37",
         "respond jims article today see neglect respond one wouldnt want think hypocrite respond every stupid article trm dictionary definitions disagree agree delete oh im weary try wade jims repertoire red herrings smoke screen let see get run four article post jim today discord filter markov chain program steve lamont kind enough send take action white geese hold accomplice hold decision upon door black white goose waddle past eye door hit confidence interval individual hold responsible individual may hold getaway car may hold uncountably large number driver something agree black goose waddle past person imprison white goose waddle past confidence interval population geese ax fine white goose waddle past door run jims article discord make coherent less coherent discord turn jims article angstridden poem make choices world fill uncertainty yet hold responsible choices make geese symbolize inner frustration ambiguity desire everything black white shade gray getaway car tell us try renounce existential nature get away responsibility action rather take role passive accomplice driver getaway car juxtaposition man machine car driver reveal subtext internal conflict determinism moral responsibility read much collaboration jim random number generator",
         "2",
         "talk.religion.misc"
        ],
        [
         "38",
         "rollout already go pay attention news gifs head wuarchive patrick",
         "1",
         "sci.space"
        ],
        [
         "39",
         "anyone radon transform c could send help accept",
         "0",
         "comp.graphics"
        ],
        [
         "40",
         "tonigth tv journal brasil announce object beyond plutos orbit find observatory hawaii name object karla program say object wasnt gaseous giant planet compose rock ice someone confirm information could object new planet kuiper object thank advance francisco",
         "1",
         "sci.space"
        ],
        [
         "41",
         "sound liek feed sign year lease use certain part space station build design commerical company consortium company like alyeska small amount rent return certain incentives tax right also monopoly certain products commerical builders would certain perk give make end easier tax contract regulatory concesions workable might work china lease hong kong people hong kong make money could work",
         "1",
         "sci.space"
        ],
        [
         "42",
         "rick anderson reply letter ra article celplcacsubuffaloedu ra ra well jason heretical ways first point ra equate lucifer jesus type ra however lucifer create thou wast perfect thy ra ways day thou wast create till iniquity find ra thee ezekiel jesus uncreated creator ra things begin word word ra god word god begin god ra things make without thing make ra make john things ra things consist colossians ra ra inference ezekiel john passages lucifer ra create jesus depend particular interpetation ra word create one many christians may agree ra grant mormon belief gods children include christ ra lucifer eternally existent intelligences organize ra spirit children god term creation apply equally well ra passages briefly something mention pass refer differ interpretations create say many christians may agree really irrelevant base faith many people think one way another bottom line truth regardless popularity opinions also find rather strange try persuade create eternally existent equivalent say grant mormon belief cant grant conclusion expect point address order reply issue address answer point raise jump conclusion grant bible state lucifer create bible state jesus creator contradiction lds belief jesus lucifer ra point brothers jesus lucifer also ra heretical since innately brothers sisters christ ra adopt ye receive spirit bondage ra fear ye receive spirit adoption whereby ra cry abba father romans natural children ra god faith even enter family ra god ye children god faith christ jesus ra galatians manifestation ra faith receive jesus become sons god ra many receive give power become sons ra god even believe name bear ra blood flesh man ra god john ra ra occur robert bear someone ra person persons family may symbolic term new ra testament mormons believe adopt house ra israel baptism faith christ although express ra belief evince physical change body mormon belief children god literally nothing symbolic however contradict bible say bible teach everyone child god field world good seed children kingdom tar children wicked one matthew speak see father ye ye see father john ye deeds father say bear fornication one father even god jesus say unto god father ye would love proceed forth come god neither come send ye understand speech even ye hear word ye father devil lust father ye murderer begin abide truth truth speaketh lie speaketh liar father john say full subtilty mischief thou child devil thou enemy righteousness wilt thou cease pervert right ways lord act wherein time past ye walk accord course world accord prince power air spirit worketh children disobedience ephesians children god manifest children devil whosoever doeth righteousness god neither loveth brother john one become child god many receive give power become sons god even believe name john behold manner love father hath bestow upon us call sons god therefore world knoweth us know beloved sons god doth yet appear shall know shall appear shall like shall see john bear faith jesus christ bear blood flesh man god john predestinate us unto adoption children jesus christ accord good pleasure ephesians beget us word truth kind firstfruits creatures jam many lead spirit god sons god ye receive spirit bondage fear ye receive spirit adoption whereby cry abba father spirit beareth witness spirit children god romans beloved let us love one another love god every one loveth bear god knoweth god john whosoever believeth jesus christ bear god every one loveth beget loveth also beget john ye children god faith christ jesus galatians ra tell life eternal might know ra thee true god jesus christ thou hast send ra john life eternal know true god yet ra doctrines lds mention portray vastly ra different jesus jesus reconcile jesus ra bible far remove proclaim ra one true deny true accord ra bible eternal life dependent know true god ra construct imagination ra ra ra robert due respect die leave chief arbiter ra correct biblical interpretation dont mean snotty ra fact bible differently interpret different ra group biblical scholars think jehovahs ra witness example make reference jesus ra bible simply ridiculous whose jesus bible mean really red herring doesnt address issue raise rather seek obfuscate fact group try read something bible doesnt change bible teach example fact jehovahs witness deny deity christ alter bible teach look bless hope glorious appear great god saviour jesus christ titus simon peter servant apostle jesus christ obtain like precious faith us righteousness god saviour jesus christ peter deity christ first look bible see teach discount even address bible teach group differ view selfdefeating see bible teach look bible ra lord mortality essential salvation ra promise messiah p work salvation ra father things ibid p ra baptize gain admission celestial kingdom mormon ra doctrine p ra ra welcome wonderful world mormon paradoctrine robert ra book late bruce r mcconkie former general authority ra lds church book publish church ra constitute offical doctrine consist opinions ra mean say true ill ra think idea christs personal salvation come ra conclusions conclusions come may seem heretical ra im prepare accept find rather curious mention mormon belief jesus need save put forward quote late apostle bruce mcconkie curious part one address issue jesus need save rick come closest conclusions address point reply instead hopscotched issue bruce mcconkie whether view official doctrine dont think matter mcconkies view canon issue mcconkies writings indicative mormon belief subject real issue indication rick may certainly",
         "2",
         "talk.religion.misc"
        ],
        [
         "43",
         "instead stupid things like many ccs ml anyway metric system problems many",
         "1",
         "sci.space"
        ],
        [
         "44",
         "ive try figure way get adobe illustrator autotrace exactly see screen miss edge templates many pixels result image useless need exact trace approximate ive try adjust freehand tolerances well autotrace tolerances doesnt help suggestions",
         "0",
         "comp.graphics"
        ],
        [
         "45",
         "get image computer monitor videotape harder look standard vga ega output different ntsc format use televisions equipment conversion hard get hand cost quite bite access amiga computer ntsc output transfer certain type graphic file modem tape ntsc output unfortunately would framebyframe would lead unbelievably scratchy animation unless good amiga animation program",
         "0",
         "comp.graphics"
        ],
        [
         "46",
         "yeah also true long complicate sequence events calculations big computer program general dont argue get similar maybe useful result fractals question whether fractal fiends seem say part system cant model replace random number generator useful instance make data palatable human perception torture test rest system dont think much fractals certainly would rather model improve explicable manner guess havent see earthshaking fractal model explain correlate universe actually exist really hope im hold selfsimilar breath uh huh ill believe see ive chase fractal compression years still dont believe great come dont see compete jpeg cause cant ill wager actually wager quit try make fractal compression work try dont think reasonable alternative techniques neat though ill reiterate disbelief everything fractal thats dont think fractal compression widely explain practical know barnsley sloan trick sleeves make demo work dont see anyone use real product six years since iterate systems form right always go question theres product sloan reply company plan ship first encode devices summer say march iterate systems half system decoders scientific american march page",
         "0",
         "comp.graphics"
        ],
        [
         "47",
         "paul reason many colonies found",
         "1",
         "sci.space"
        ],
        [
         "48",
         "think passage youre look follow matthew think come abolish law prophets come abolish fulfil matthew truly say till heaven earth pass away iota dot pass law accomplish matthew whoever relax one least commandments teach men shall call least kingdom heaven teach shall call great kingdom heaven matthew tell unless righteousness exceed scribe pharisees never enter kingdom heaven several problems serious law regard jews time bind jews gentiles rule bind human beings socalled noachic laws quite minimal issue church face jesus death gentiles want follow christ decision impose law didnt say law abolish simply acknowledge fact didnt apply gentiles simple answer think everyone agree discussion issue less term record act however theres involve order get full picture role law come grip pauls apparent rejection law relate jesus commendation law least read paul say law serve purpose certain sense supercede issue isnt one abolition law middle discussion paul note might understand way assure us thats intend say rather see law primarily present convict people sinfulness ultimately impossible standard one supercede christ pauls comment worlds clearest everyone agree read interest thing notice even radical position entail abolition law still remain uncompromising standard iota dot may remove purpose convict sin important relax however christians end ultimately live faith law theoretical categories use rather different end think jesus paul come rather similar conclusion quote passage mat take context rest sermon mount jesus show us interpret law iota dot would suggest rather literal read fact thats jesus approach jesus interpretations emphasize intent law stay away ceremonial detail indeed well know take rather free attitude towards sabbath kosher laws scholars claim mat need take context st cent jewish discussions jesus accuse opponents care give tenth even minor herbs neglect things really matter justice mercy faith care cup plat clean fact inside people use full extortion rapacity mat discussion later mat suggest jesus specific view law mind talk maintain law full strength think aspects pauls conclusion similar talk law supercede specific examples give involve ceremonial law circumcision sabbath quite concern maintain moral standards net result paul talk law supercede jesus talk law maintain believe talk different aspects law paul embroil arguments circumcision natural letter respond specific situations hes look aspect law currently cause trouble law specifically jewish ceremonies certainly intend abolish divine standards conduct hand jesus commend law seem talk law broadest implications morals human relationships deemphasizing aspects later give paul much trouble",
         "2",
         "talk.religion.misc"
        ],
        [
         "49",
         "im sure almost sound like cant figure nucleus within coma theyre couple hundred miles well imagine rest",
         "1",
         "sci.space"
        ]
       ],
       "shape": {
        "columns": 3,
        "rows": 2588
       }
      },
      "text/html": [
       "<div>\n",
       "<style scoped>\n",
       "    .dataframe tbody tr th:only-of-type {\n",
       "        vertical-align: middle;\n",
       "    }\n",
       "\n",
       "    .dataframe tbody tr th {\n",
       "        vertical-align: top;\n",
       "    }\n",
       "\n",
       "    .dataframe thead th {\n",
       "        text-align: right;\n",
       "    }\n",
       "</style>\n",
       "<table border=\"1\" class=\"dataframe\">\n",
       "  <thead>\n",
       "    <tr style=\"text-align: right;\">\n",
       "      <th></th>\n",
       "      <th>data</th>\n",
       "      <th>target</th>\n",
       "      <th>target_names</th>\n",
       "    </tr>\n",
       "  </thead>\n",
       "  <tbody>\n",
       "    <tr>\n",
       "      <th>0</th>\n",
       "      <td>think largely result efforts people read group...</td>\n",
       "      <td>1</td>\n",
       "      <td>sci.space</td>\n",
       "    </tr>\n",
       "    <tr>\n",
       "      <th>1</th>\n",
       "      <td>regard fractal commpression see fractal compre...</td>\n",
       "      <td>0</td>\n",
       "      <td>comp.graphics</td>\n",
       "    </tr>\n",
       "    <tr>\n",
       "      <th>2</th>\n",
       "      <td>background orion spacedrive theoretical concep...</td>\n",
       "      <td>1</td>\n",
       "      <td>sci.space</td>\n",
       "    </tr>\n",
       "    <tr>\n",
       "      <th>3</th>\n",
       "      <td>thou wilt shall whole law honestly word sin re...</td>\n",
       "      <td>2</td>\n",
       "      <td>talk.religion.misc</td>\n",
       "    </tr>\n",
       "    <tr>\n",
       "      <th>4</th>\n",
       "      <td></td>\n",
       "      <td>1</td>\n",
       "      <td>sci.space</td>\n",
       "    </tr>\n",
       "    <tr>\n",
       "      <th>...</th>\n",
       "      <td>...</td>\n",
       "      <td>...</td>\n",
       "      <td>...</td>\n",
       "    </tr>\n",
       "    <tr>\n",
       "      <th>2583</th>\n",
       "      <td>get regular question gamma correction since go...</td>\n",
       "      <td>0</td>\n",
       "      <td>comp.graphics</td>\n",
       "    </tr>\n",
       "    <tr>\n",
       "      <th>2584</th>\n",
       "      <td>robert refer orthodox talk historical position...</td>\n",
       "      <td>2</td>\n",
       "      <td>talk.religion.misc</td>\n",
       "    </tr>\n",
       "    <tr>\n",
       "      <th>2585</th>\n",
       "      <td>hello week ago guy ask sco file well research ...</td>\n",
       "      <td>0</td>\n",
       "      <td>comp.graphics</td>\n",
       "    </tr>\n",
       "    <tr>\n",
       "      <th>2586</th>\n",
       "      <td>ive play program call piclab modify gif file p...</td>\n",
       "      <td>0</td>\n",
       "      <td>comp.graphics</td>\n",
       "    </tr>\n",
       "    <tr>\n",
       "      <th>2587</th>\n",
       "      <td>yes take money profitable commercial enterpris...</td>\n",
       "      <td>1</td>\n",
       "      <td>sci.space</td>\n",
       "    </tr>\n",
       "  </tbody>\n",
       "</table>\n",
       "<p>2588 rows × 3 columns</p>\n",
       "</div>"
      ],
      "text/plain": [
       "                                                   data  target  \\\n",
       "0     think largely result efforts people read group...       1   \n",
       "1     regard fractal commpression see fractal compre...       0   \n",
       "2     background orion spacedrive theoretical concep...       1   \n",
       "3     thou wilt shall whole law honestly word sin re...       2   \n",
       "4                                                             1   \n",
       "...                                                 ...     ...   \n",
       "2583  get regular question gamma correction since go...       0   \n",
       "2584  robert refer orthodox talk historical position...       2   \n",
       "2585  hello week ago guy ask sco file well research ...       0   \n",
       "2586  ive play program call piclab modify gif file p...       0   \n",
       "2587  yes take money profitable commercial enterpris...       1   \n",
       "\n",
       "            target_names  \n",
       "0              sci.space  \n",
       "1          comp.graphics  \n",
       "2              sci.space  \n",
       "3     talk.religion.misc  \n",
       "4              sci.space  \n",
       "...                  ...  \n",
       "2583       comp.graphics  \n",
       "2584  talk.religion.misc  \n",
       "2585       comp.graphics  \n",
       "2586       comp.graphics  \n",
       "2587           sci.space  \n",
       "\n",
       "[2588 rows x 3 columns]"
      ]
     },
     "execution_count": 8,
     "metadata": {},
     "output_type": "execute_result"
    }
   ],
   "source": [
    "df = tokenize_clean_lemmatize(df,'data')\n",
    "df"
   ]
  },
  {
   "cell_type": "code",
   "execution_count": 9,
   "id": "d1385b32",
   "metadata": {},
   "outputs": [
    {
     "data": {
      "application/vnd.microsoft.datawrangler.viewer.v0+json": {
       "columns": [
        {
         "name": "index",
         "rawType": "int64",
         "type": "integer"
        },
        {
         "name": "data",
         "rawType": "object",
         "type": "string"
        },
        {
         "name": "target",
         "rawType": "int64",
         "type": "integer"
        },
        {
         "name": "target_names",
         "rawType": "object",
         "type": "string"
        }
       ],
       "conversionMethod": "pd.DataFrame",
       "ref": "c216135b-380e-4cc5-a7c8-0facf51945f3",
       "rows": [
        [
         "0",
         "think largely result efforts people read group write letter make phone call follow happen nasa reprogrammed fund keep nasp alive efforts kill dcx ssrt progam twice twarted feb june last year gouldin keep job spite heavy lobby may mark think show readers scispace power influence allen",
         "1",
         "sci.space"
        ],
        [
         "1",
         "regard fractal commpression see fractal compress movies fairly impressive first one gray scale movie casablanca mb minutes fps video little grainy bad second one saw minutes bite color fps measure mb consider fractal movies practical thing explore unlike many format end lose resolution dont know kind softwarehardware use create movies saw guy show say take minutes per frame generate say playback frame per second else could put minutes one floppy disk",
         "0",
         "comp.graphics"
        ],
        [
         "2",
         "background orion spacedrive theoretical concept would drive use thermonuclear explosions drive spacecraft idea youd detonate devices somewhere one ten megatons yield behind pusher plate attach main spacecraft shock wave explosions would transfer momentum ship atmosphere see energy explosion heat atmosphere expand explosively slam shock wave pusher plate vacuum two things see go hit plate fissionfusion products barium krypton helium neutrons evaporate bomb case electromagnetic radiation gammas mostly lightheat irradiate fission products would work cant see em radiation impel much momentum especially give mass pusher plate seem youre go get momentum transfer throw bomb back ship get detonate theyre must miss something would someone enlighten via email thank jim",
         "1",
         "sci.space"
        ],
        [
         "3",
         "thou wilt shall whole law honestly word sin restriction would kid one man word encompass majestic vision thousands individuals quote man quote order take context word interpret much differently one apply within confine original expression think case regard hymenaeus beta frater superior order belong include bite merlinus x us service show us extremes order members know go fervor little knowledge regard reuss background surely unusual man important force order many years yet people change order change look back carefully dirty laundry oto remember surface skim many perspectives encompass extend beyond one individual hope show much room difference opinion within order perhaps test limit let us examine issue bite closely karl kellner wealthy austrian industrialist paper chemist well highgrade mason found ordo templi orientis kellner travel widely east meet three adepts instruct specific magical practice kellners efforts develop order later assist franz hartmann heinrich klein theodore reuss work together prior join oto order first proclaim reusss masonic publication oriflamme kellners death reuss succeed outer head oho jubilee edition oriflamme publish announce order teach secret sexual magic theodore reuss interest character bear june augsburg enter masonry singer journalist possibly spy prussian political police infiltrate socialist league found karl marxs daughter husband reuss later associate william wynn westcott leader golden dawn later introduce john yarker yarker charter reuss find rites memphis mizraim germany several attempt concretize various masonic rites reuss settle development oto order experience reasonably steady growth reuss leadership example charter papus france rudolph steiner berlin h spencer lewis usa historic meet reuss crowley occur crowley write reuss come accuse reveal order secrets crowley look afresh initiate interpretation sexual magick unfold first time reuss appoint crowley supreme holy king english speak world authorization invoke publish material equinox reuss resign outer head order suffer stroke name crowley successor well book law translate german break continuity order manyk members split new oho book crowley actively promulgate order earlier revise dthe order rituals reusss request deeply infuse doctrines new aeon revelation introduction history oto ad veritatem ix within equinox iii edit hymenaeus beta frater superior rex summus sanctissimus caliph unite state america publish samuel weiser many possible reason frater superior include material equinox iii real point wish publish things history organization represent dogmatic threat principle thelema exercise true put forth complex picture easy answer picture leave room many interpretations quite easy see example oto derive dribble falter masonry purchase clever huckster ounce courage write ability aid take way present caliph whose feeble support law thelema laughable best would throw order speak way think frater see perspective interjection use example illustration show may express things context larger work true significance may quite difficult apprehend first may oto merlinus x please look oto carefully support reusss word qualify assess critical pomposity member order take stand allow continue say health order mean order go soft abandon moral principles mean strong ability let universal kinship arise shackle dogmatic requirement shall resolve two possibilities find high calibre individual associate ordo templi orientis often quite intelligent sometimes well verse arcane usual information quite often artists geniuses meet longstanding members sf bay area many heavily involve order vouch integrity organization stand sometimes question policy hymenaeus beta moments follow intuition ive find little stop request second initiation different oto body im happily participate social group feast initiations come know gnostic mass well enough taste doesnt make authority order politics explanations however hypothesize relay understand base limit contact members urge take word merlinus x far many ways interpret word many people become involve order feel strongly sanctity personal freedom preservation individual vision welcome comment issue write response post thread invoke star love law love",
         "2",
         "talk.religion.misc"
        ],
        [
         "4",
         "kudos mark generous offer already exist large emailbased forward system scispace post space digest mirror scispace exactly provide simple twoway communication subscribe send follow message body subject email message subscribe space john q public one address listservuga listservugaccugaedu listservfinhutc listservfinhuchutfi spacerequestisuisunetedu youll receive post digest form day please use listserv spacerequest address handle manually post message send message reasonable subject line spaceisuisunetedu question comment spacerequestisuisunetedu",
         "1",
         "sci.space"
        ],
        [
         "5",
         "speak one know relativity quantum mechanics say bullshit speak one take lsd say bullshit could strive toward ideal way useful ideal objective existence mark pundurs",
         "2",
         "talk.religion.misc"
        ],
        [
         "6",
         "sorry folks do mean hit send key orbital elements comet vii dance file pau e capomega w epoch also perihelions gehrels april jupiter radii august jupiter radii hope helpsim even less orbital mechanic artist",
         "1",
         "sci.space"
        ],
        [
         "7",
         "actuallay dont hand dont support idea one newsgroup every aspect graphics program propose brian reply original post would suggest looser structure like compgraphicsprogrammer compgraphicshwandsw reason make group possible reason say shouldnt spill get postings every day take much time browse postings find two three im interest understand agree say want aspects graphics one meet agree extension see news forum exchange ideas help others help think difficult achive many different things one meet good even netters",
         "0",
         "comp.graphics"
        ],
        [
         "8",
         "immediate release contact oasis april los angeles ca local national space society chapters sponsor talk la advocate lunar power system energy source world april oasis ventura county chapters national space society sponsor talk lunar power system lps co inventor vicepresident lps coalition dr robert waldron hold pm rockwell science center thousand oaks ca dr waldron currently technical specialist space materials process space systems division rockwell international downey california recognize world authority lunar materials refinement write coauthored article report nonterrestrial materials process utilization along dr david criswell waldron invent lunarsolar power system concept momentum build coalition entrepreneurs legal experts soviet us scientists engineer build lunar power system pollutionfree energy source potential power globe past three years members coalition nearly half california rejuvenate commercial scientific concept solar power system base moon lps concept entail collect solar energy lunar surface beam power earth microwave transmit orbit antennae mature lps offer enormous source clean sustainable power meet earth ever increase demand use prove basic technology oasis organization advancement space industrialization greater los angeles chapter national space society international nonprofit organization promote development space frontier ventura county chapter base oxnard ca rockwell science center auditorium camino do rios thousand oaks ca",
         "1",
         "sci.space"
        ],
        [
         "9",
         "im work upon game use isometric perspective similar use populous basically look room look similar follow xxxx xxxxx xxxx xxxx x xxxx xxxx x xxxx xxxx xxxx xxxx x xxxx xxxx x x xxxx xxxx x x xxxx xxxx x xxxx xxxx xxxx xxxx xxxx xxxx xxxx xxxx xxxx good thing perspective look move around three dimension still maintain peripheral vision since viewpoint always routines hardcoded particular vantage case wall twos rise edge slope im also use mode x x ive run two problems im sure readers try perhaps formulate opinions routines draw wall trivial run packedplanar image dismay jaggies im consider antialiasing routines speed really necessary worth effort artist draw wall already skew thus assure nice image much burden wall present problem algorithm use tend overly distort original try decide paper pixels go fail anyone come method map planar crosswise shear shape currently take produce line follow slope line directly line line move line leave pixels line line fill shape exactly without unfilled pixels cause distortions anyone come better way perhaps necessary simply draw original bitmap already skew particularly sticky problems perspective plan hide plane removal use zbuffering locations store xyz form notice top line wall wall parallel bottom line appear optical illusion ie appear either inside outside cube depend mood vanish point simplify draw code object dont change size move room ive decide approximation alright since small displacements large enough distance cause little change apparent size object real perspective draw hopefully context picture ie chair floor torch hang wall dispell visual ambiguity thank advance help",
         "0",
         "comp.graphics"
        ],
        [
         "10",
         "ignorance strength",
         "2",
         "talk.religion.misc"
        ],
        [
         "11",
         "well pardon try continue discussion rather tug forelock dismay consider actually try recover energy process least try go right way energy curve put sackcloth ash pretend anything please surprise though note didnt say perpetual motion even sound like perpetual motion phrase sound almost like perpetual motion least consider somewhat different propposition one elect criticize perhaps beg pardon precise use language believe process come even close approach technological economic feasibility give mix nature trash run oppose cost separate things first different run actinide see dump tons one end pull relatively clean material cost technological risk etc take account still class one idea throw waste sun sure possible physics well understand really reasonable approach still wonder sort burn rate could get something like oppose kind energy would really recover oppose would cost build power without energy recovery talk ounces pound tons grams kilograms metric tons si fan material talk days weeks months years days weeks months years si fan hmmm still use nondecimated time scale see insist perfect safety people dont ball live real world mary shafer nasa ames dryden",
         "1",
         "sci.space"
        ],
        [
         "12",
         "hi problem im certain im solve correct way wonder anyone shed light point right place look xray image camera metallic tube cylindrical hole pass right angle tube axis image xray source screen metallic tube know sourcescreen centre distance radius tube radius hole calculations base image hole screen however calculations mathematically highly complex must assume object hole project image resemble ellipse tube parallel screen centre screen however unlikely object place conveniently firstly must transform major minor axis ellipse know angle tube screen assume parallel transformation transformation secondly distortion image due screen planar sourcescreen distance increase move away centre screen compensate ellipses axis image distortion please anyone give us pointers transform image appear would centre screen deal distortion due shape screen wed appreciate help either post email thank advance simon",
         "0",
         "comp.graphics"
        ],
        [
         "13",
         "announce reward billion would go first corporation successfully keep least person alive moon year b offer problem keep alive highly likely involve lunar environment oh dear freighter land roof acmes base die sad gosh leave us oldest residents quick boss slime yoyodyne back time theyve get tank man gun one could imagine sort technologies develop sort environment greg im kid btw although problem winnertakesall prize encourage sort undesirable behaviour witness military procurement program b probably far small reward encourage would expensive high risk proposition",
         "1",
         "sci.space"
        ],
        [
         "14",
         "lewb let add percentages orphaic docterians bring lewbto group paulsaul high rank initiate lewbdevelopment orphaic mysteries see jane harrisons prolegomena lewbstudy greek religion cambridge u press easly draw lewbyour conclusions josh perhaps quote bite argument",
         "2",
         "talk.religion.misc"
        ],
        [
         "15",
         "object file cad program write tom hudson atari st computers dont know much except store point first surface next make list point number make triangle surface theres header describe color light etc dont know much hope help",
         "0",
         "comp.graphics"
        ],
        [
         "16",
         "hello everybody use pixars renderman scene description language create worlds please help im use renderman library next documentation nextstep version renderman available create complicate scenes render use surface shaders bring life apply shadow reflections far understand define environmental shadow map produce reflections shadow know use advise simple rib c examples appreciate thank advance",
         "0",
         "comp.graphics"
        ],
        [
         "17",
         "inflate substance longer need since nothing cause balloon collapse inflatable structure could suffer multiple hole disastrous deflation preasure internal preasure need maintain spherical shape resistance cause catastrophically deflate large silver shards billboard pop like dime store balloon youre wrong give time get reference",
         "1",
         "sci.space"
        ],
        [
         "18",
         "gravity maneuver use exploit fuzzy regions describe inventor exploit secondorder perturbations three body system probe launch region earthmoonsun system perturbations affect way allow go lunar orbit without large expenditures fuel slow idea natural object sometimes get capture without expend fuel well find trajectory make possible originator technique say nasa wasnt interest japan probe small couldnt hold lot fuel deceleration issue science news planetary report believe months ago",
         "1",
         "sci.space"
        ],
        [
         "19",
         "recent observations take hubble space telescope faint object spectrograph fos use make ultraviolet observations planet pluto moon charon peakups successful observations execute schedule problems report observations make use high speed photometer planet uranus occultation faint star capricornus observations help understand planets atmospheric radiative dynamical process event occur close last quarter moon special arrangements make modify lunar limit test allow observations observations currently review observations look okay",
         "1",
         "sci.space"
        ],
        [
         "20",
         "never say didnt publish merely data dont publish noone scoriates case ibm research publish plenty end nobel prize last years project deem company confidential att bell labs keep lot stuff private like karamankars algorithm private moeny entitle please within bound law keepers temple science please shove pointy little head conically shape posterior orifices pat",
         "1",
         "sci.space"
        ],
        [
         "21",
         "yeah corel draw wordperfect presentations pretty limit since theres really thing decent raster vector conversion program trace technique simple stuff like bw logos etc pretty well complicate stuff go haywire suspect even though dont write code good bitmapped vector conversion program would probably big application softwares use even come one hasnt write knowledge mean even hijaak one commercial industry standards file conversion hasnt attempt yet",
         "0",
         "comp.graphics"
        ],
        [
         "22",
         "produce error last week chorion abhor publish trash abhor even others since present authority subject feel dishonest though openly admit ignorance incompetence example thus felt honor bind better set research specifically word first note greek grammar tough first assume nontrivial mean still competent opaque think turn index bauerarndtgingrich greek lexicon render verse order word within verse put greek alphabetical order thus mean verse decipherable syntax far clear hand greekenglish intralinear bible make things lot comprehendable yes word field act indeed chorion ive check several greekenglish lexicons greek english lexicon new testament louw nida robinsons greek english lexicon new testament greek english lexicon new testament grimm word study concordance tynsdale greek english lexicon new testament early christian writings bauerarndtgingrich new analytical greek lexicon perschbacher case mean word chorion give variously space place region district field area country place land farm estate bite tillage similar meanings nowhere book mention anything grave book go great detail would surprise find book inadequate mr archer competent scholar greek think likely mr archers investigations contradictions friend say lack substance thus archer show worthless expert witness way mr decenso would honorably present result matter even find support mr archers contentions way among lexicons eg robinsons definition agros word use matthew describe field buy word agros define field country chorion specifically note synonym agros significant evidence silly bullingers exegisis state word field matthew ie agros different word field act ie chorion thus must talk two different field course already admit stupid bullingers exegisis small serendipity drive point home unless mr decenso show compel reason believe otherwise eg reputable scholar reputable reference consider particular issue close see mr decenso go answer question denials peter day crucifixion tyre fact author matthew quote wrong prophet discuss potter field later dave butler",
         "2",
         "talk.religion.misc"
        ],
        [
         "23",
         "well first work much cold gas need make tank big enough work much cold gas another problem depend vehicle configuration flight duration thruster isp couple storage pressure may factor select tank wall thickness etc",
         "1",
         "sci.space"
        ],
        [
         "24",
         "deserve frame really atoms arent even real tell atoms see electron microscopes atoms figments imaginations evidence atoms real overwhelm wont bother evidence moment",
         "2",
         "talk.religion.misc"
        ],
        [
         "25",
         "absolutely lewis didnt care oto charter reuss mind something completely diferent crowley lewis different persons probably know overstatement sorry",
         "2",
         "talk.religion.misc"
        ],
        [
         "26",
         "hi guy like people group im fan fractal render sw favourite fractint pov dstudio listen ideas ihave start able use dstudio quite well im simulate full animation f grand prix unfortanatly lap interest kind prj ds concern cars part motor wheel dxf good enough anyone object give complete hard animation anyway exchange object material project apreciate ftp site find look pov file interest cpu time comparision render image pov dstusio thank",
         "0",
         "comp.graphics"
        ],
        [
         "27",
         "let see arent strict sense amateur rocket term denote rocket engines construct user rocket describe call hpr high power rocket distinguish smaller model rocket use factorymade ammonium perchlorate composite propellants phenolic plastic engines graphite nozzles engines classify impulse engine example newtonseconds impulse f engine ns letter correspond double maximum impulse far engines size available pretty much shelf engines size h ship class b explosives control engines size f ship class c explosives control class f engines btw hpr engines model rocket engines class g engines go legal limbo hpr society tripoli rocket society believe hold events various sit throughout year legalities faa waiver include take care national association rocketry concern engines h though involve hpr well societies certify users hpr rocket company sell uncertified individuals bottom line legit suggest send catalog forget dynamite ya",
         "1",
         "sci.space"
        ],
        [
         "28",
         "idea efficient moon habitat also idea get people moon prize also idea rescue someone die moon maybe area see help something happen liek idea one prize first moon land return nongovernmental body also idea moon habitat race know need somthing get people involve eccentric millionairebillionaire would nice see old ross feel would great promotional thing way show care commericalization people try broach subject moonbase cheap good idea nasa friends seem take much time give us expensive stuff late work hubble basically difference mil peice junk multi mil piece junk know junk",
         "1",
         "sci.space"
        ],
        [
         "29",
         "interest seminar work uks ral space science dept subject specifically smallscale solar sail propose student space project guy give talk keen generate interest project ill typein handout give meet go microlight solar sail introduction solar sail wellestablished concept harness pressure sunlight spacecraft would unlimited range principle vehicle could explore whole solar system zero fuel consumption however difficult design practical solar sail people realize pressure sunlight one kilogram per square kilometer deploy control large area aluminize fabric would necessary transport conventional type spacecraft daunt task despite potential hte idea craft actually launch date design recent advance microelectronics make possible different concept tiny sail metres diameter could control purely electronics mechanical part several attitude control methods feasible example pressure sunlight exert panel solar cells vary accord whether power draw key components craft minute ccd camera develop edinburgh university act attitude sensor data gather device solar cells provide watt power control communication directional radio antenna etch onto surface sail launch piggyback payload total cost mission limit tens thousands dollars missions craft would capable ambitious missions example could rendezvous nearby asteroid apollo amor group closeup picture could transmit back earth low bite rate b could steer lunar polar orbit previously unobserved areas around lunar pole could view angle sail reflect sunlight downwards polar craters whose base never receive sunlight could image bright reflections would confirm volatiles water ice become trap locationsimmensely valuable information set man lunar base btw c could send rendezvous small asteroid comet nucleus impact low speed thin wire probe attach craft cause rebound capture tiny sample sharpedged tube like perform biopsy return earth sail act ideal reentry parachute load per unit area gmm ensure heat reradiated efectively sail temperature exceed deg c material sample recover enclose small insulate container contact colin jack tel oxford mathematical design high street oxford ox dh england guy would love hear anyone interest project seek detail anything would happy send information andy",
         "1",
         "sci.space"
        ],
        [
         "30",
         "medtroniccom dale skiba entirely miss point previous comment shortly post realize two things run fever probably go directly read altslack post august newsgroup ad hominen point mr archer willingly print blatant lie defense bible inerrancy thus worthless expert witness okay im game give us list blatant lie encyclopedia biblical difficulties archer writings would interest short list generate think likely mr archer inerancy mindset always impartial make doozy mistake imho also think mindset tend generate sort mistake hand long list generate likely mr archer intentionally use deception hs book deceptive tyre archer sit around rub hand plot next deceive ok let see list open question assume mr archer chronic liar someone whould document assumption base talkorigins regulars document numerous case creationist deceptions duane guish friends long list archer mistake yet give may isolate incident",
         "2",
         "talk.religion.misc"
        ],
        [
         "31",
         "report crt register state mode thank",
         "0",
         "comp.graphics"
        ],
        [
         "32",
         "use iterate systems compression board compress pathology image get ratios without much loss quality take mins per image compress mhz decompression almost real time software alone",
         "0",
         "comp.graphics"
        ],
        [
         "33",
         "macuser come graphics thats software hardware ive recently come across large number tttddd format model databases software mac unix translate something could use like dxf please reply via email",
         "0",
         "comp.graphics"
        ],
        [
         "34",
         "someone please remind say well know quotation sit atop rocket await liftoff afterwards answer question think say approximately half million components work perfectly supply lowest bidder attribution correction quote would much appreciate",
         "1",
         "sci.space"
        ],
        [
         "35",
         "weight americans equal salvadorans",
         "2",
         "talk.religion.misc"
        ],
        [
         "36",
         "respond jims article today see neglect respond one wouldnt want think hypocrite respond every stupid article trm dictionary definitions disagree agree delete oh im weary try wade jims repertoire red herrings smoke screen let see get run four article post jim today discord filter markov chain program steve lamont kind enough send take action white geese hold accomplice hold decision upon door black white goose waddle past eye door hit confidence interval individual hold responsible individual may hold getaway car may hold uncountably large number driver something agree black goose waddle past person imprison white goose waddle past confidence interval population geese ax fine white goose waddle past door run jims article discord make coherent less coherent discord turn jims article angstridden poem make choices world fill uncertainty yet hold responsible choices make geese symbolize inner frustration ambiguity desire everything black white shade gray getaway car tell us try renounce existential nature get away responsibility action rather take role passive accomplice driver getaway car juxtaposition man machine car driver reveal subtext internal conflict determinism moral responsibility read much collaboration jim random number generator",
         "2",
         "talk.religion.misc"
        ],
        [
         "37",
         "rollout already go pay attention news gifs head wuarchive patrick",
         "1",
         "sci.space"
        ],
        [
         "38",
         "anyone radon transform c could send help accept",
         "0",
         "comp.graphics"
        ],
        [
         "39",
         "tonigth tv journal brasil announce object beyond plutos orbit find observatory hawaii name object karla program say object wasnt gaseous giant planet compose rock ice someone confirm information could object new planet kuiper object thank advance francisco",
         "1",
         "sci.space"
        ],
        [
         "40",
         "sound liek feed sign year lease use certain part space station build design commerical company consortium company like alyeska small amount rent return certain incentives tax right also monopoly certain products commerical builders would certain perk give make end easier tax contract regulatory concesions workable might work china lease hong kong people hong kong make money could work",
         "1",
         "sci.space"
        ],
        [
         "41",
         "rick anderson reply letter ra article celplcacsubuffaloedu ra ra well jason heretical ways first point ra equate lucifer jesus type ra however lucifer create thou wast perfect thy ra ways day thou wast create till iniquity find ra thee ezekiel jesus uncreated creator ra things begin word word ra god word god begin god ra things make without thing make ra make john things ra things consist colossians ra ra inference ezekiel john passages lucifer ra create jesus depend particular interpetation ra word create one many christians may agree ra grant mormon belief gods children include christ ra lucifer eternally existent intelligences organize ra spirit children god term creation apply equally well ra passages briefly something mention pass refer differ interpretations create say many christians may agree really irrelevant base faith many people think one way another bottom line truth regardless popularity opinions also find rather strange try persuade create eternally existent equivalent say grant mormon belief cant grant conclusion expect point address order reply issue address answer point raise jump conclusion grant bible state lucifer create bible state jesus creator contradiction lds belief jesus lucifer ra point brothers jesus lucifer also ra heretical since innately brothers sisters christ ra adopt ye receive spirit bondage ra fear ye receive spirit adoption whereby ra cry abba father romans natural children ra god faith even enter family ra god ye children god faith christ jesus ra galatians manifestation ra faith receive jesus become sons god ra many receive give power become sons ra god even believe name bear ra blood flesh man ra god john ra ra occur robert bear someone ra person persons family may symbolic term new ra testament mormons believe adopt house ra israel baptism faith christ although express ra belief evince physical change body mormon belief children god literally nothing symbolic however contradict bible say bible teach everyone child god field world good seed children kingdom tar children wicked one matthew speak see father ye ye see father john ye deeds father say bear fornication one father even god jesus say unto god father ye would love proceed forth come god neither come send ye understand speech even ye hear word ye father devil lust father ye murderer begin abide truth truth speaketh lie speaketh liar father john say full subtilty mischief thou child devil thou enemy righteousness wilt thou cease pervert right ways lord act wherein time past ye walk accord course world accord prince power air spirit worketh children disobedience ephesians children god manifest children devil whosoever doeth righteousness god neither loveth brother john one become child god many receive give power become sons god even believe name john behold manner love father hath bestow upon us call sons god therefore world knoweth us know beloved sons god doth yet appear shall know shall appear shall like shall see john bear faith jesus christ bear blood flesh man god john predestinate us unto adoption children jesus christ accord good pleasure ephesians beget us word truth kind firstfruits creatures jam many lead spirit god sons god ye receive spirit bondage fear ye receive spirit adoption whereby cry abba father spirit beareth witness spirit children god romans beloved let us love one another love god every one loveth bear god knoweth god john whosoever believeth jesus christ bear god every one loveth beget loveth also beget john ye children god faith christ jesus galatians ra tell life eternal might know ra thee true god jesus christ thou hast send ra john life eternal know true god yet ra doctrines lds mention portray vastly ra different jesus jesus reconcile jesus ra bible far remove proclaim ra one true deny true accord ra bible eternal life dependent know true god ra construct imagination ra ra ra robert due respect die leave chief arbiter ra correct biblical interpretation dont mean snotty ra fact bible differently interpret different ra group biblical scholars think jehovahs ra witness example make reference jesus ra bible simply ridiculous whose jesus bible mean really red herring doesnt address issue raise rather seek obfuscate fact group try read something bible doesnt change bible teach example fact jehovahs witness deny deity christ alter bible teach look bless hope glorious appear great god saviour jesus christ titus simon peter servant apostle jesus christ obtain like precious faith us righteousness god saviour jesus christ peter deity christ first look bible see teach discount even address bible teach group differ view selfdefeating see bible teach look bible ra lord mortality essential salvation ra promise messiah p work salvation ra father things ibid p ra baptize gain admission celestial kingdom mormon ra doctrine p ra ra welcome wonderful world mormon paradoctrine robert ra book late bruce r mcconkie former general authority ra lds church book publish church ra constitute offical doctrine consist opinions ra mean say true ill ra think idea christs personal salvation come ra conclusions conclusions come may seem heretical ra im prepare accept find rather curious mention mormon belief jesus need save put forward quote late apostle bruce mcconkie curious part one address issue jesus need save rick come closest conclusions address point reply instead hopscotched issue bruce mcconkie whether view official doctrine dont think matter mcconkies view canon issue mcconkies writings indicative mormon belief subject real issue indication rick may certainly",
         "2",
         "talk.religion.misc"
        ],
        [
         "42",
         "instead stupid things like many ccs ml anyway metric system problems many",
         "1",
         "sci.space"
        ],
        [
         "43",
         "ive try figure way get adobe illustrator autotrace exactly see screen miss edge templates many pixels result image useless need exact trace approximate ive try adjust freehand tolerances well autotrace tolerances doesnt help suggestions",
         "0",
         "comp.graphics"
        ],
        [
         "44",
         "get image computer monitor videotape harder look standard vga ega output different ntsc format use televisions equipment conversion hard get hand cost quite bite access amiga computer ntsc output transfer certain type graphic file modem tape ntsc output unfortunately would framebyframe would lead unbelievably scratchy animation unless good amiga animation program",
         "0",
         "comp.graphics"
        ],
        [
         "45",
         "yeah also true long complicate sequence events calculations big computer program general dont argue get similar maybe useful result fractals question whether fractal fiends seem say part system cant model replace random number generator useful instance make data palatable human perception torture test rest system dont think much fractals certainly would rather model improve explicable manner guess havent see earthshaking fractal model explain correlate universe actually exist really hope im hold selfsimilar breath uh huh ill believe see ive chase fractal compression years still dont believe great come dont see compete jpeg cause cant ill wager actually wager quit try make fractal compression work try dont think reasonable alternative techniques neat though ill reiterate disbelief everything fractal thats dont think fractal compression widely explain practical know barnsley sloan trick sleeves make demo work dont see anyone use real product six years since iterate systems form right always go question theres product sloan reply company plan ship first encode devices summer say march iterate systems half system decoders scientific american march page",
         "0",
         "comp.graphics"
        ],
        [
         "46",
         "paul reason many colonies found",
         "1",
         "sci.space"
        ],
        [
         "47",
         "think passage youre look follow matthew think come abolish law prophets come abolish fulfil matthew truly say till heaven earth pass away iota dot pass law accomplish matthew whoever relax one least commandments teach men shall call least kingdom heaven teach shall call great kingdom heaven matthew tell unless righteousness exceed scribe pharisees never enter kingdom heaven several problems serious law regard jews time bind jews gentiles rule bind human beings socalled noachic laws quite minimal issue church face jesus death gentiles want follow christ decision impose law didnt say law abolish simply acknowledge fact didnt apply gentiles simple answer think everyone agree discussion issue less term record act however theres involve order get full picture role law come grip pauls apparent rejection law relate jesus commendation law least read paul say law serve purpose certain sense supercede issue isnt one abolition law middle discussion paul note might understand way assure us thats intend say rather see law primarily present convict people sinfulness ultimately impossible standard one supercede christ pauls comment worlds clearest everyone agree read interest thing notice even radical position entail abolition law still remain uncompromising standard iota dot may remove purpose convict sin important relax however christians end ultimately live faith law theoretical categories use rather different end think jesus paul come rather similar conclusion quote passage mat take context rest sermon mount jesus show us interpret law iota dot would suggest rather literal read fact thats jesus approach jesus interpretations emphasize intent law stay away ceremonial detail indeed well know take rather free attitude towards sabbath kosher laws scholars claim mat need take context st cent jewish discussions jesus accuse opponents care give tenth even minor herbs neglect things really matter justice mercy faith care cup plat clean fact inside people use full extortion rapacity mat discussion later mat suggest jesus specific view law mind talk maintain law full strength think aspects pauls conclusion similar talk law supercede specific examples give involve ceremonial law circumcision sabbath quite concern maintain moral standards net result paul talk law supercede jesus talk law maintain believe talk different aspects law paul embroil arguments circumcision natural letter respond specific situations hes look aspect law currently cause trouble law specifically jewish ceremonies certainly intend abolish divine standards conduct hand jesus commend law seem talk law broadest implications morals human relationships deemphasizing aspects later give paul much trouble",
         "2",
         "talk.religion.misc"
        ],
        [
         "48",
         "im sure almost sound like cant figure nucleus within coma theyre couple hundred miles well imagine rest",
         "1",
         "sci.space"
        ],
        [
         "49",
         "hi im write science fiction script im look answer question regard moon earth start point impossible situation check professor berkeley response helpful cant happen enjoy play unusual ideas will answer question please contact via email jennisedgicom get extremely annoy screen teleplays ignore basic facts computers im determine scientifically accurate sorry vague id like protect idea much im ready sell hopefully",
         "1",
         "sci.space"
        ]
       ],
       "shape": {
        "columns": 3,
        "rows": 2512
       }
      },
      "text/html": [
       "<div>\n",
       "<style scoped>\n",
       "    .dataframe tbody tr th:only-of-type {\n",
       "        vertical-align: middle;\n",
       "    }\n",
       "\n",
       "    .dataframe tbody tr th {\n",
       "        vertical-align: top;\n",
       "    }\n",
       "\n",
       "    .dataframe thead th {\n",
       "        text-align: right;\n",
       "    }\n",
       "</style>\n",
       "<table border=\"1\" class=\"dataframe\">\n",
       "  <thead>\n",
       "    <tr style=\"text-align: right;\">\n",
       "      <th></th>\n",
       "      <th>data</th>\n",
       "      <th>target</th>\n",
       "      <th>target_names</th>\n",
       "    </tr>\n",
       "  </thead>\n",
       "  <tbody>\n",
       "    <tr>\n",
       "      <th>0</th>\n",
       "      <td>think largely result efforts people read group...</td>\n",
       "      <td>1</td>\n",
       "      <td>sci.space</td>\n",
       "    </tr>\n",
       "    <tr>\n",
       "      <th>1</th>\n",
       "      <td>regard fractal commpression see fractal compre...</td>\n",
       "      <td>0</td>\n",
       "      <td>comp.graphics</td>\n",
       "    </tr>\n",
       "    <tr>\n",
       "      <th>2</th>\n",
       "      <td>background orion spacedrive theoretical concep...</td>\n",
       "      <td>1</td>\n",
       "      <td>sci.space</td>\n",
       "    </tr>\n",
       "    <tr>\n",
       "      <th>3</th>\n",
       "      <td>thou wilt shall whole law honestly word sin re...</td>\n",
       "      <td>2</td>\n",
       "      <td>talk.religion.misc</td>\n",
       "    </tr>\n",
       "    <tr>\n",
       "      <th>4</th>\n",
       "      <td>kudos mark generous offer already exist large ...</td>\n",
       "      <td>1</td>\n",
       "      <td>sci.space</td>\n",
       "    </tr>\n",
       "    <tr>\n",
       "      <th>...</th>\n",
       "      <td>...</td>\n",
       "      <td>...</td>\n",
       "      <td>...</td>\n",
       "    </tr>\n",
       "    <tr>\n",
       "      <th>2507</th>\n",
       "      <td>get regular question gamma correction since go...</td>\n",
       "      <td>0</td>\n",
       "      <td>comp.graphics</td>\n",
       "    </tr>\n",
       "    <tr>\n",
       "      <th>2508</th>\n",
       "      <td>robert refer orthodox talk historical position...</td>\n",
       "      <td>2</td>\n",
       "      <td>talk.religion.misc</td>\n",
       "    </tr>\n",
       "    <tr>\n",
       "      <th>2509</th>\n",
       "      <td>hello week ago guy ask sco file well research ...</td>\n",
       "      <td>0</td>\n",
       "      <td>comp.graphics</td>\n",
       "    </tr>\n",
       "    <tr>\n",
       "      <th>2510</th>\n",
       "      <td>ive play program call piclab modify gif file p...</td>\n",
       "      <td>0</td>\n",
       "      <td>comp.graphics</td>\n",
       "    </tr>\n",
       "    <tr>\n",
       "      <th>2511</th>\n",
       "      <td>yes take money profitable commercial enterpris...</td>\n",
       "      <td>1</td>\n",
       "      <td>sci.space</td>\n",
       "    </tr>\n",
       "  </tbody>\n",
       "</table>\n",
       "<p>2512 rows × 3 columns</p>\n",
       "</div>"
      ],
      "text/plain": [
       "                                                   data  target  \\\n",
       "0     think largely result efforts people read group...       1   \n",
       "1     regard fractal commpression see fractal compre...       0   \n",
       "2     background orion spacedrive theoretical concep...       1   \n",
       "3     thou wilt shall whole law honestly word sin re...       2   \n",
       "4     kudos mark generous offer already exist large ...       1   \n",
       "...                                                 ...     ...   \n",
       "2507  get regular question gamma correction since go...       0   \n",
       "2508  robert refer orthodox talk historical position...       2   \n",
       "2509  hello week ago guy ask sco file well research ...       0   \n",
       "2510  ive play program call piclab modify gif file p...       0   \n",
       "2511  yes take money profitable commercial enterpris...       1   \n",
       "\n",
       "            target_names  \n",
       "0              sci.space  \n",
       "1          comp.graphics  \n",
       "2              sci.space  \n",
       "3     talk.religion.misc  \n",
       "4              sci.space  \n",
       "...                  ...  \n",
       "2507       comp.graphics  \n",
       "2508  talk.religion.misc  \n",
       "2509       comp.graphics  \n",
       "2510       comp.graphics  \n",
       "2511           sci.space  \n",
       "\n",
       "[2512 rows x 3 columns]"
      ]
     },
     "execution_count": 9,
     "metadata": {},
     "output_type": "execute_result"
    }
   ],
   "source": [
    "df = df[df['data'].str.strip().astype(bool)]\n",
    "df.reset_index(drop=True, inplace=True)\n",
    "df"
   ]
  },
  {
   "cell_type": "code",
   "execution_count": 10,
   "id": "1f8550e7",
   "metadata": {},
   "outputs": [],
   "source": [
    "from sklearn.feature_extraction.text import TfidfVectorizer\n",
    "\n",
    "def compute_tfidf_from_df(df, text_column=\"text\", max_features=500, min_df=4, max_df=0.85, ngram_range=(1,3)):\n",
    "    \"\"\"\n",
    "    Applies optimized TF-IDF vectorization to text in a Pandas DataFrame.\n",
    "\n",
    "    Args:\n",
    "        df (pd.DataFrame): DataFrame containing the text data.\n",
    "        text_column (str): Column name containing text.\n",
    "        max_features (int): Max number of words to keep.\n",
    "        min_df (int): Minimum document frequency.\n",
    "        max_df (float): Maximum document frequency.\n",
    "        ngram_range (tuple): (min_n, max_n) range for n-grams.\n",
    "\n",
    "    Returns:\n",
    "        tfidf_matrix (sparse matrix): TF-IDF transformed feature matrix.\n",
    "        vectorizer (TfidfVectorizer): The fitted TF-IDF vectorizer.\n",
    "    \"\"\"\n",
    "    vectorizer = TfidfVectorizer(\n",
    "        max_features=max_features, \n",
    "        min_df=min_df, \n",
    "        max_df=max_df, \n",
    "        ngram_range=ngram_range, \n",
    "        stop_words=\"english\"\n",
    "    )\n",
    "    tfidf_matrix = vectorizer.fit_transform(df[text_column])  \n",
    "    return tfidf_matrix, vectorizer\n"
   ]
  },
  {
   "cell_type": "code",
   "execution_count": 11,
   "id": "b7c6c804",
   "metadata": {},
   "outputs": [],
   "source": [
    "# Apply to dataset\n",
    "tfidf_matrix, tfidf_vectorizer = compute_tfidf_from_df(df,'data')"
   ]
  },
  {
   "cell_type": "code",
   "execution_count": 25,
   "id": "c55db08b",
   "metadata": {},
   "outputs": [],
   "source": [
    "from sklearn.decomposition import PCA\n",
    "import numpy as np\n",
    "import pandas as pd\n",
    "\n",
    "def apply_pca(features, n_components):\n",
    "    \"\"\"\n",
    "    Applies PCA to reduce dimensionality of the dataset.\n",
    "\n",
    "    Parameters:\n",
    "    - features (np.ndarray): The high-dimensional feature matrix >> takes it Dense Not sparse.\n",
    "    - n_components (int): Number of PCA components (default: 2).\n",
    "\n",
    "    Returns:\n",
    "    - pca_result (np.ndarray): Transformed feature representation.\n",
    "    \"\"\"\n",
    "    pca = PCA(n_components=n_components,svd_solver='auto')\n",
    "    pca_result = pca.fit_transform(features)\n",
    "    return pca_result"
   ]
  },
  {
   "cell_type": "code",
   "execution_count": null,
   "id": "f101095d",
   "metadata": {},
   "outputs": [],
   "source": [
    "pca_result = apply_pca(tfidf_matrix.toarray(), n_components=0.9)    "
   ]
  },
  {
   "cell_type": "code",
   "execution_count": null,
   "id": "991112fc",
   "metadata": {},
   "outputs": [],
   "source": [
    "pca_result.shape"
   ]
  },
  {
   "cell_type": "code",
   "execution_count": 24,
   "id": "df4fa2d9",
   "metadata": {},
   "outputs": [],
   "source": [
    "import matplotlib.pyplot as plt\n",
    "import seaborn as sns\n",
    "import pandas as pd\n",
    "import numpy as np\n",
    "\n",
    "def visualize_pca(pca_result, labels=None, n_components=2):\n",
    "    \"\"\"Visualizes PCA results in 2D or 3D with hue (color coding).\"\"\"\n",
    "    \n",
    "    df_pca = pd.DataFrame(pca_result[:, :n_components], columns=[f\"PC{i+1}\" for i in range(n_components)])\n",
    "    \n",
    "    if labels is not None:\n",
    "        df_pca[\"Cluster\"] = labels\n",
    "    \n",
    "    plt.figure(figsize=(10, 6))\n",
    "\n",
    "    if n_components == 2:\n",
    "        sns.scatterplot(x=\"PC1\", y=\"PC2\", hue=\"Cluster\" if labels is not None else None, \n",
    "                        data=df_pca, palette=\"tab10\", alpha=0.7)\n",
    "        plt.xlabel(\"PC1\")\n",
    "        plt.ylabel(\"PC2\")\n",
    "\n",
    "    elif n_components == 3:\n",
    "        from mpl_toolkits.mplot3d import Axes3D\n",
    "        fig = plt.figure(figsize=(10, 7))\n",
    "        ax = fig.add_subplot(111, projection='3d')\n",
    "        scatter = ax.scatter(df_pca[\"PC1\"], df_pca[\"PC2\"], df_pca[\"PC3\"], \n",
    "                             c=labels if labels is not None else \"blue\", cmap=\"tab10\", alpha=0.7)\n",
    "        ax.set_xlabel(\"PC1\")\n",
    "        ax.set_ylabel(\"PC2\")\n",
    "        ax.set_zlabel(\"PC3\")\n",
    "\n",
    "        # Add a legend\n",
    "        if labels is not None:\n",
    "            legend1 = ax.legend(*scatter.legend_elements(), title=\"Clusters\")\n",
    "            ax.add_artist(legend1)\n",
    "\n",
    "    plt.title(f\"PCA Visualization ({n_components}D)\")\n",
    "    plt.show()\n"
   ]
  },
  {
   "cell_type": "code",
   "execution_count": null,
   "id": "0278b51c",
   "metadata": {},
   "outputs": [],
   "source": [
    "visualize_pca(pca_result,labels=df['target'], n_components=2)"
   ]
  },
  {
   "cell_type": "code",
   "execution_count": null,
   "id": "117f3ee9",
   "metadata": {},
   "outputs": [],
   "source": [
    "def apply_kmeans(features, n_clusters: int = 3, random_state: int = 42):\n",
    "    \"\"\"\n",
    "    Applies K-Means clustering to the given feature matrix.\n",
    "\n",
    "    Parameters:\n",
    "    - features (np.ndarray): Feature matrix (e.g., TF-IDF, Word2Vec).\n",
    "    - n_clusters (int): Number of clusters to form (default: 5).\n",
    "    - random_state (int): Random seed for reproducibility (default: 42).\n",
    "\n",
    "    Returns:\n",
    "    - labels (np.ndarray): Cluster labels for each data point.\n",
    "    - kmeans_model (KMeans): Trained KMeans model.\n",
    "    \"\"\"\n",
    "    kmeans = KMeans(n_clusters=n_clusters, random_state=random_state, n_init=10)\n",
    "    labels = kmeans.fit_predict(features)\n",
    "    return labels, kmeans"
   ]
  },
  {
   "cell_type": "code",
   "execution_count": null,
   "id": "afda9b81",
   "metadata": {},
   "outputs": [],
   "source": [
    "from sklearn.cluster import AgglomerativeClustering\n",
    "\n",
    "def apply_agglomerative_clustering(features: np.ndarray, n_clusters: int = 3, linkage: str = \"ward\"):\n",
    "    \"\"\"\n",
    "    Applies Agglomerative Hierarchical Clustering.\n",
    "\n",
    "    Parameters:\n",
    "    - features (np.ndarray): Feature matrix.\n",
    "    - n_clusters (int): Number of clusters to form (default: 5).\n",
    "    - linkage (str): Linkage criterion ('ward', 'complete', 'average', 'single').\n",
    "\n",
    "    Returns:\n",
    "    - labels (np.ndarray): Cluster labels.\n",
    "    - model (AgglomerativeClustering): Trained clustering model.\n",
    "    \"\"\"\n",
    "    model = AgglomerativeClustering(n_clusters=n_clusters, linkage=linkage)\n",
    "    labels = model.fit_predict(features)\n",
    "    return labels, model"
   ]
  },
  {
   "cell_type": "code",
   "execution_count": null,
   "id": "f39cb9a6",
   "metadata": {},
   "outputs": [],
   "source": [
    "labels , algo = apply_agglomerative_clustering(pca_result, n_clusters=3, linkage='ward') "
   ]
  },
  {
   "cell_type": "code",
   "execution_count": null,
   "id": "379889bb",
   "metadata": {},
   "outputs": [],
   "source": [
    "from sklearn.cluster import KMeans\n",
    "labels , kmeans = apply_kmeans(pca_result, n_clusters=3,random_state=42)"
   ]
  },
  {
   "cell_type": "code",
   "execution_count": null,
   "id": "5d432362",
   "metadata": {},
   "outputs": [],
   "source": [
    "visualize_pca(pca_result,labels=labels, n_components=2)"
   ]
  },
  {
   "cell_type": "code",
   "execution_count": null,
   "id": "c7d5399d",
   "metadata": {},
   "outputs": [],
   "source": [
    "from sklearn.metrics import silhouette_score\n",
    "\n",
    "def get_silhouette_score(features, labels):\n",
    "    \"\"\"\n",
    "    Computes the silhouette score for clustering.\n",
    "\n",
    "    Parameters:\n",
    "    - features (np.ndarray): The feature matrix (e.g., TF-IDF, Word2Vec, etc.).\n",
    "    - labels (np.ndarray): Cluster labels assigned by the clustering algorithm.\n",
    "\n",
    "    Returns:\n",
    "    - float: The silhouette score (higher is better, range: -1 to 1).\n",
    "    \"\"\"\n",
    "    return silhouette_score(features, labels)"
   ]
  },
  {
   "cell_type": "code",
   "execution_count": null,
   "id": "b71c80da",
   "metadata": {},
   "outputs": [],
   "source": [
    "silhouette_score = get_silhouette_score(pca_result,labels)"
   ]
  },
  {
   "cell_type": "code",
   "execution_count": null,
   "id": "007338b8",
   "metadata": {},
   "outputs": [],
   "source": [
    "print(silhouette_score)"
   ]
  },
  {
   "cell_type": "code",
   "execution_count": null,
   "id": "682df40e",
   "metadata": {},
   "outputs": [],
   "source": [
    "from sklearn.metrics.cluster import contingency_matrix\n",
    "\n",
    "# get the purity of each cluster\n",
    "def purity_score(labels_true, labels_pred):\n",
    "    \"\"\"\n",
    "    Calculates the purity score for evaluating clustering performance.\n",
    "    \n",
    "    \"\"\"\n",
    "    # Compute contingency matrix (confusion matrix)\n",
    "    matrix = contingency_matrix(labels_true, labels_pred)\n",
    "    # Calculate the purity score\n",
    "    purity = np.sum(np.amax(matrix, axis=0)) / np.sum(matrix)\n",
    "    return purity"
   ]
  },
  {
   "cell_type": "code",
   "execution_count": null,
   "id": "e59c4f78",
   "metadata": {},
   "outputs": [],
   "source": [
    "purity_score = purity_score(df['target'],labels)\n",
    "print(purity_score)"
   ]
  },
  {
   "cell_type": "code",
   "execution_count": null,
   "id": "8ce8ed80",
   "metadata": {},
   "outputs": [],
   "source": [
    "from gensim.models.doc2vec import Doc2Vec, TaggedDocument\n",
    "import os\n",
    "import scipy.sparse as sp\n",
    "\n",
    "\n",
    "def doc2vec_vectorization(df: pd.DataFrame, text_column: str, model_path=\"models/doc2vec_news.model\",\n",
    "                          vector_size=100, window=5, min_count=2, epochs=20, return_sparse=True):\n",
    "    \"\"\"\n",
    "    Applies Doc2Vec vectorization to text data.\n",
    "\n",
    "    Parameters:\n",
    "    \n",
    "    - df (pd.DataFrame): Input DataFrame.\n",
    "    - text_column (str): Column name containing text data.\n",
    "    - model_path (str): Path to save/load the trained model.\n",
    "    - vector_size (int): Dimensionality of the document vectors.\n",
    "    - window (int): Maximum distance between current and predicted word.\n",
    "    - min_count (int): Ignores words with total frequency lower than this.\n",
    "    - epochs (int): Number of training iterations.\n",
    "    - return_sparse (bool): If True, returns a sparse matrix.\n",
    "\n",
    "    Returns:\n",
    "    - doc_vectors (np.ndarray or scipy.sparse.csr_matrix): Document vectors.\n",
    "    - model (Doc2Vec): Trained Doc2Vec model.\n",
    "    \"\"\"\n",
    "    texts = df[text_column].astype(str).tolist()\n",
    "    tagged_data = [TaggedDocument(words=text.split(), tags=[str(i)]) for i, text in enumerate(texts)]\n",
    "\n",
    "    if os.path.exists(model_path):\n",
    "        print(f\"🔹 Loading existing Doc2Vec model from {model_path}\")\n",
    "        model = Doc2Vec.load(model_path)\n",
    "    else:\n",
    "        print(\"🚀 Training new Doc2Vec model...\")\n",
    "        model = Doc2Vec(tagged_data, vector_size=vector_size, window=window, min_count=min_count, epochs=epochs)\n",
    "        model.save(model_path)\n",
    "\n",
    "    doc_vectors = np.array([model.dv[i] for i in range(len(texts))])\n",
    "\n",
    "    if return_sparse:\n",
    "        doc_vectors = sp.csr_matrix(doc_vectors)  # Convert to sparse format\n",
    "\n",
    "    return doc_vectors, model\n"
   ]
  },
  {
   "cell_type": "code",
   "execution_count": null,
   "id": "2d686dc8",
   "metadata": {},
   "outputs": [],
   "source": [
    "doc2vev_matrix, doc2vec_model = doc2vec_vectorization(df, 'data', model_path=\"../models/doc2vec_news.model\")"
   ]
  },
  {
   "cell_type": "code",
   "execution_count": null,
   "id": "f53bde9c",
   "metadata": {},
   "outputs": [],
   "source": [
    "# applying pca\n",
    "pca_result = apply_pca(doc2vev_matrix.toarray(), n_components=0.9)"
   ]
  },
  {
   "cell_type": "code",
   "execution_count": null,
   "id": "398c9314",
   "metadata": {},
   "outputs": [],
   "source": [
    "from sklearn.cluster import KMeans\n",
    "labels , kmeans = apply_kmeans(pca_result, n_clusters=3, random_state=42)"
   ]
  },
  {
   "cell_type": "code",
   "execution_count": null,
   "id": "39d8eff3",
   "metadata": {},
   "outputs": [],
   "source": [
    "labels,algo = apply_agglomerative_clustering(pca_result, n_clusters=3, linkage='ward')"
   ]
  },
  {
   "cell_type": "code",
   "execution_count": null,
   "id": "319ec3d0",
   "metadata": {},
   "outputs": [],
   "source": [
    "\n",
    "visualize_pca(pca_result, labels=df['target'], n_components=2)\n",
    "visualize_pca(pca_result, labels=labels, n_components=2)"
   ]
  },
  {
   "cell_type": "code",
   "execution_count": null,
   "id": "2afbbb22",
   "metadata": {},
   "outputs": [],
   "source": [
    "shore = get_silhouette_score(pca_result,labels)\n",
    "purity = purity_score(df['target'],labels)\n",
    "print(shore)\n",
    "print(purity)"
   ]
  },
  {
   "cell_type": "code",
   "execution_count": 20,
   "id": "93b1fd20",
   "metadata": {},
   "outputs": [],
   "source": [
    "# argmax\n",
    "from numpy import argmax\n",
    "\n",
    "def apply_lda_from_matrix(tfidf_matrix, n_topics=3):\n",
    "    \"\"\"\n",
    "    Applies Latent Dirichlet Allocation (LDA) for topic modeling on a precomputed matrix.\n",
    "\n",
    "    Parameters:\n",
    "    - tfidf_matrix (sparse matrix): Precomputed TF-IDF or count matrix.\n",
    "    - n_topics (int): Number of topics to extract.\n",
    "\n",
    "    Returns:\n",
    "    - topic_distributions (np.ndarray): Document-topic matrix.\n",
    "    - lda_model (LatentDirichletAllocation): Trained LDA model.\n",
    "    - feature_names (list or None): Vocabulary terms (if vectorizer provided).\n",
    "    \"\"\"\n",
    "    from sklearn.decomposition import LatentDirichletAllocation\n",
    "\n",
    "    # Apply LDA\n",
    "    lda_model = LatentDirichletAllocation(n_components=n_topics, random_state=42)\n",
    "    topic_distributions = lda_model.fit_transform(tfidf_matrix)\n",
    "    labels = argmax(topic_distributions, axis=1)\n",
    "\n",
    "    return labels, lda_model\n"
   ]
  },
  {
   "cell_type": "code",
   "execution_count": null,
   "id": "a76222d4",
   "metadata": {},
   "outputs": [],
   "source": [
    "# apply lda\n",
    "labels, lda_model= apply_lda_from_matrix(tfidf_matrix, n_topics=3)"
   ]
  },
  {
   "cell_type": "code",
   "execution_count": 27,
   "id": "c59f74aa",
   "metadata": {},
   "outputs": [
    {
     "data": {
      "text/plain": [
       "<2512x500 sparse matrix of type '<class 'numpy.float64'>'\n",
       "\twith 55972 stored elements in Compressed Sparse Row format>"
      ]
     },
     "execution_count": 27,
     "metadata": {},
     "output_type": "execute_result"
    }
   ],
   "source": [
    "tfidf_matrix"
   ]
  },
  {
   "cell_type": "code",
   "execution_count": 28,
   "id": "360277c3",
   "metadata": {},
   "outputs": [
    {
     "data": {
      "image/png": "[encoded data removed]",
      "text/plain": [
       "<Figure size 1000x600 with 1 Axes>"
      ]
     },
     "metadata": {},
     "output_type": "display_data"
    }
   ],
   "source": [
    "visualize_pca(tfidf_matrix.toarray(), labels=labels, n_components=2)"
   ]
  },
  {
   "cell_type": "code",
   "execution_count": 34,
   "id": "025e03c9",
   "metadata": {},
   "outputs": [],
   "source": [
    "# apply kmeans\n",
    "kmeans = KMeans(n_clusters=3, random_state=42)\n",
    "kmeans.fit(topic_distributions)\n",
    "labels = kmeans.labels_"
   ]
  },
  {
   "cell_type": "code",
   "execution_count": 35,
   "id": "420a417e",
   "metadata": {},
   "outputs": [
    {
     "name": "stdout",
     "output_type": "stream",
     "text": [
      "Silhouette Score: 0.6746647383818244\n"
     ]
    }
   ],
   "source": [
    "# get silhouette score\n",
    "silhouette_score = silhouette_score(topic_distributions, labels)\n",
    "print(\"Silhouette Score:\", silhouette_score)"
   ]
  },
  {
   "cell_type": "code",
   "execution_count": 36,
   "id": "b4698ef8",
   "metadata": {},
   "outputs": [
    {
     "name": "stdout",
     "output_type": "stream",
     "text": [
      "Purity Score: 0.6246019108280255\n"
     ]
    }
   ],
   "source": [
    "# get purity score\n",
    "purity_score = purity_score(df['target'], labels)\n",
    "print(\"Purity Score:\", purity_score)"
   ]
  },
  {
   "cell_type": "code",
   "execution_count": null,
   "id": "b80a0e81",
   "metadata": {},
   "outputs": [],
   "source": []
  }
 ],
 "metadata": {
  "kernelspec": {
   "display_name": "env",
   "language": "python",
   "name": "python3"
  },
  "language_info": {
   "codemirror_mode": {
    "name": "ipython",
    "version": 3
   },
   "file_extension": ".py",
   "mimetype": "text/x-python",
   "name": "python",
   "nbconvert_exporter": "python",
   "pygments_lexer": "ipython3",
   "version": "3.9.0"
  }
 },
 "nbformat": 4,
 "nbformat_minor": 5
}
